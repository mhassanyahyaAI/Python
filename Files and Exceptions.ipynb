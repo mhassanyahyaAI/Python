{
 "cells": [
  {
   "cell_type": "code",
   "execution_count": null,
   "metadata": {},
   "outputs": [],
   "source": [
    "#exceptions are logical errors\n"
   ]
  },
  {
   "cell_type": "code",
   "execution_count": null,
   "metadata": {},
   "outputs": [],
   "source": [
    "\n",
    "try:\n",
    "    a = int(input(\"Enter a number\"))\n",
    "    b = int(input(\"Enter a number\"))\n",
    "    c = a/b\n",
    "    print(c)\n",
    "except:\n",
    "    print(\"Exception is caught\")"
   ]
  },
  {
   "cell_type": "code",
   "execution_count": null,
   "metadata": {},
   "outputs": [],
   "source": [
    "a = int(input(\"Enter a number\"))\n",
    "b = int(input(\"Enter a number\"))\n",
    "d= []\n",
    "try:\n",
    "    c = a/b\n",
    "    x = d[5]\n",
    "except Exception as e:\n",
    "    print(\"Handle Error == \" + str(e))\n",
    "else:\n",
    "    print(c)"
   ]
  },
  {
   "cell_type": "code",
   "execution_count": null,
   "metadata": {},
   "outputs": [],
   "source": [
    "#under \"finally\" command everything will run even if there is any error in the program. "
   ]
  },
  {
   "cell_type": "code",
   "execution_count": null,
   "metadata": {},
   "outputs": [],
   "source": [
    "a = int (input(\"Enter a number\"))\n",
    "try:\n",
    "    c = d[5]\n",
    "\n",
    "finally:\n",
    "    print(\"Run\")"
   ]
  },
  {
   "cell_type": "markdown",
   "metadata": {},
   "source": [
    " # Raising own exception\n"
   ]
  },
  {
   "cell_type": "code",
   "execution_count": 3,
   "metadata": {},
   "outputs": [],
   "source": [
    "class Student():\n",
    "    def __init__(self,name,age):\n",
    "        if age>80 or age <16:\n",
    "            raise Exception (\"Age cannot be greator than 80 or less than 16\")\n",
    "        self.name = name\n",
    "        self.age = age"
   ]
  },
  {
   "cell_type": "code",
   "execution_count": null,
   "metadata": {},
   "outputs": [],
   "source": [
    "age = int(input(\"Enter the Student age?\"))\n",
    "x = Student(\"Hassan\",age)\n",
    "print(x.age)"
   ]
  },
  {
   "cell_type": "code",
   "execution_count": 6,
   "metadata": {},
   "outputs": [
    {
     "name": "stdout",
     "output_type": "stream",
     "text": [
      "Enter the Student age?85\n",
      "ExceptionAge cannot be greator than 80 or less than 16\n"
     ]
    }
   ],
   "source": [
    "try:\n",
    "    age = int(input(\"Enter the Student age?\"))\n",
    "    x = Student(\"Hassan\",age)\n",
    "except Exception as e:\n",
    "    print(\"Exception \" + str(e))\n",
    "else:\n",
    "    print(x.age)\n",
    "    "
   ]
  },
  {
   "cell_type": "code",
   "execution_count": null,
   "metadata": {},
   "outputs": [],
   "source": []
  }
 ],
 "metadata": {
  "kernelspec": {
   "display_name": "Python 3",
   "language": "python",
   "name": "python3"
  },
  "language_info": {
   "codemirror_mode": {
    "name": "ipython",
    "version": 3
   },
   "file_extension": ".py",
   "mimetype": "text/x-python",
   "name": "python",
   "nbconvert_exporter": "python",
   "pygments_lexer": "ipython3",
   "version": "3.7.3"
  }
 },
 "nbformat": 4,
 "nbformat_minor": 2
}
