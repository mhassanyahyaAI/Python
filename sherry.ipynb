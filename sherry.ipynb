{
 "cells": [
  {
   "cell_type": "code",
   "execution_count": null,
   "metadata": {},
   "outputs": [],
   "source": [
    "print(\"Hello\")"
   ]
  },
  {
   "cell_type": "markdown",
   "metadata": {},
   "source": [
    "# our first class# "
   ]
  },
  {
   "cell_type": "markdown",
   "metadata": {},
   "source": [
    "this is our first class"
   ]
  },
  {
   "cell_type": "code",
   "execution_count": null,
   "metadata": {},
   "outputs": [],
   "source": [
    "print(1234+1)\n"
   ]
  },
  {
   "cell_type": "code",
   "execution_count": null,
   "metadata": {},
   "outputs": [],
   "source": [
    "print(\"1234\")"
   ]
  },
  {
   "cell_type": "code",
   "execution_count": null,
   "metadata": {},
   "outputs": [],
   "source": [
    "print('this is AI class\\n')"
   ]
  },
  {
   "cell_type": "code",
   "execution_count": null,
   "metadata": {},
   "outputs": [],
   "source": [
    "print(\"languages:\\npython\\nruby\\njavascript\")"
   ]
  },
  {
   "cell_type": "code",
   "execution_count": null,
   "metadata": {},
   "outputs": [],
   "source": [
    "print(\"language:\\n\\tpyton\\n\\tc\\n\\tjavascript\")"
   ]
  },
  {
   "cell_type": "code",
   "execution_count": null,
   "metadata": {},
   "outputs": [],
   "source": [
    "print(\"language:\\n\\tpyton\\n\\tc\\ntjavascript\")"
   ]
  },
  {
   "cell_type": "code",
   "execution_count": null,
   "metadata": {},
   "outputs": [],
   "source": [
    "num=10\n",
    "print(num)"
   ]
  },
  {
   "cell_type": "code",
   "execution_count": null,
   "metadata": {},
   "outputs": [],
   "source": [
    "a=10\n",
    "a"
   ]
  },
  {
   "cell_type": "code",
   "execution_count": null,
   "metadata": {},
   "outputs": [],
   "source": [
    "a=10\n",
    "a\n",
    "print(a)"
   ]
  },
  {
   "cell_type": "code",
   "execution_count": null,
   "metadata": {},
   "outputs": [],
   "source": [
    "name=\"shehryaar\"\n",
    "name=\"muhammad ali\"\n",
    "print(name)"
   ]
  },
  {
   "cell_type": "code",
   "execution_count": null,
   "metadata": {},
   "outputs": [],
   "source": [
    "print(\"hello python\")"
   ]
  },
  {
   "cell_type": "code",
   "execution_count": null,
   "metadata": {},
   "outputs": [],
   "source": [
    "num_1= 150\n",
    "print(num_1+20)"
   ]
  },
  {
   "cell_type": "code",
   "execution_count": null,
   "metadata": {},
   "outputs": [],
   "source": [
    "num_1=20\n",
    "num_2=30\n",
    "num_3=40\n",
    "print(num_1+num_2+num_3)"
   ]
  },
  {
   "cell_type": "code",
   "execution_count": null,
   "metadata": {},
   "outputs": [],
   "source": [
    "num=10\n",
    "another_num=1.5\n",
    "total=num+another_num\n",
    "print(total)"
   ]
  },
  {
   "cell_type": "code",
   "execution_count": null,
   "metadata": {},
   "outputs": [],
   "source": [
    "FirstName='syed'\n",
    "middlename='zohaib'\n",
    "lastname='owais'\n",
    "full_name=firstname=\"\"+middlename+\"\"+lastname\n",
    "print(full_name)\n",
    "print(full_name.title())\n",
    "print(full_name.lower())\n",
    "print(full_name.upper())\n"
   ]
  },
  {
   "cell_type": "code",
   "execution_count": null,
   "metadata": {},
   "outputs": [],
   "source": [
    "# %load hello.py\n",
    "print(\"hello world\")"
   ]
  },
  {
   "cell_type": "code",
   "execution_count": null,
   "metadata": {},
   "outputs": [],
   "source": [
    "string message = \"DA\"\n"
   ]
  },
  {
   "cell_type": "code",
   "execution_count": null,
   "metadata": {},
   "outputs": [],
   "source": [
    "message = \"DA\"\n",
    "print (message)\n",
    "type (message)\n"
   ]
  },
  {
   "cell_type": "code",
   "execution_count": null,
   "metadata": {},
   "outputs": [],
   "source": [
    "num1 = int(input(\"Enter First Number: \"))\n",
    "num2 = input(\"Enter Second Number: \")\n",
    "total = num1 + num2\n",
    "print(total)\n"
   ]
  },
  {
   "cell_type": "code",
   "execution_count": null,
   "metadata": {},
   "outputs": [],
   "source": [
    "num11 = int(input(\"Enter an integer value:==>\"))\n",
    "num22 = int(input(\"Enter an integer value:==>\"))\n",
    "\n",
    "total = str(num11 + num22)\n",
    "\n",
    "print(\"The total of two inputs \" + total)"
   ]
  },
  {
   "cell_type": "code",
   "execution_count": null,
   "metadata": {},
   "outputs": [],
   "source": [
    "tomatoprice = input (\"What is the price of 1KG tomato? : \")\n",
    "\n",
    "if tomatoprice == 100:\n",
    "    print(\"Buy 1 KG\")\n",
    "else:\n",
    "    print (\"Buy 1/2 KG\")\n"
   ]
  },
  {
   "cell_type": "code",
   "execution_count": null,
   "metadata": {},
   "outputs": [],
   "source": [
    "number33 = int(input (\"Enter a number: \"))\n",
    "if number33%2 == 0:\n",
    "    print (\"Even Number\")\n",
    "else:\n",
    "    print (\"Odd Number\")"
   ]
  },
  {
   "cell_type": "code",
   "execution_count": null,
   "metadata": {},
   "outputs": [],
   "source": [
    "number44 = input (\"Enter an even number: \")\n",
    "if number44%2 == 0:\n",
    "    \n",
    "else:\n",
    "    print (\"This is not an even number\")"
   ]
  },
  {
   "cell_type": "code",
   "execution_count": null,
   "metadata": {},
   "outputs": [],
   "source": [
    "x = int(input())\n",
    "y=x/2\n",
    "print(y)\n",
    "#if x/2 == :\n",
    "   # print(\"Even\")\n",
    "#else:\n",
    "    #print (\"ODD\")\n"
   ]
  },
  {
   "cell_type": "code",
   "execution_count": null,
   "metadata": {},
   "outputs": [],
   "source": [
    "z = int(input())\n",
    "d = z//2\n",
    "print(type(d))\n",
    "if type(d)=='int':\n",
    "    print (\"even\")\n",
    "else:\n",
    "    print(\"odd\")"
   ]
  },
  {
   "cell_type": "code",
   "execution_count": null,
   "metadata": {},
   "outputs": [],
   "source": [
    "5/2"
   ]
  },
  {
   "cell_type": "code",
   "execution_count": null,
   "metadata": {},
   "outputs": [],
   "source": [
    "5//2"
   ]
  },
  {
   "cell_type": "code",
   "execution_count": null,
   "metadata": {},
   "outputs": [],
   "source": [
    "5*2"
   ]
  },
  {
   "cell_type": "code",
   "execution_count": null,
   "metadata": {},
   "outputs": [],
   "source": [
    "a=5*2\n",
    "print(type(a))"
   ]
  },
  {
   "cell_type": "code",
   "execution_count": null,
   "metadata": {},
   "outputs": [],
   "source": [
    "5\n",
    "print(type(5.0))"
   ]
  },
  {
   "cell_type": "code",
   "execution_count": null,
   "metadata": {},
   "outputs": [],
   "source": [
    "3-12"
   ]
  },
  {
   "cell_type": "code",
   "execution_count": null,
   "metadata": {},
   "outputs": [],
   "source": [
    "print (\"abdullah \"* 2)"
   ]
  },
  {
   "cell_type": "code",
   "execution_count": null,
   "metadata": {},
   "outputs": [],
   "source": [
    "ab=50\n",
    "ab**=2\n",
    "ab"
   ]
  },
  {
   "cell_type": "code",
   "execution_count": null,
   "metadata": {},
   "outputs": [],
   "source": [
    "temperature = float(input(\"What is the temperature today? \"))\n",
    "if temperature >= 31:\n",
    "    print (\"Wear Shorts\")\n",
    "else:\n",
    "    print (\"Wear Jeans\")"
   ]
  },
  {
   "cell_type": "code",
   "execution_count": null,
   "metadata": {},
   "outputs": [],
   "source": [
    "x = float(input(\"Enter your marks out of 100 :  \"))\n",
    "if x >100:\n",
    "    print (\"Wrong Input\")\n",
    "elif x >= 90:\n",
    "    print(\"Grade A*\")\n",
    "elif x>= 80:\n",
    "    print (\"Grade A\")\n",
    "elif x >= 70:\n",
    "    print (\"Grade B\")\n",
    "elif x >= 60:\n",
    "    print (\"Grade C\")\n",
    "elif x >= 50:\n",
    "    print (\"Grade D\")\n",
    "else:\n",
    "    print (\"Congratulations, You have Failed\")"
   ]
  },
  {
   "cell_type": "code",
   "execution_count": 20,
   "metadata": {},
   "outputs": [
    {
     "name": "stdout",
     "output_type": "stream",
     "text": [
      "Enter Your Urdu Marks: 45\n",
      "Enter Your English Marks: 45\n",
      "Enter Your Maths Marks: 45\n",
      "Enter Your Science Marks: 45\n",
      "Enter Your Computer Marks: 45\n",
      "Congratulations, You have Failed\n",
      "Your total marks are 225.0\n",
      "Your Percentage is 45.0\n",
      "Your Grade is F\n"
     ]
    }
   ],
   "source": [
    "Urdu = float(input(\"Enter Your Urdu Marks: \"))\n",
    "English = float (input(\"Enter Your English Marks: \"))\n",
    "Maths = float (input(\"Enter Your Maths Marks: \"))\n",
    "Science = float (input(\"Enter Your Science Marks: \"))\n",
    "Computer = float (input(\"Enter Your Computer Marks: \"))\n",
    "\n",
    "Total = Urdu + English + Maths + Science + Computer\n",
    "Percentage = round(Total/500 * 100,2)\n",
    "if Percentage >100:\n",
    "    print (\"Wrong Input\")\n",
    "elif Percentage >= 90:\n",
    "    grade =(\"Grade A*\")\n",
    "elif Percentage>= 80:\n",
    "    grade =(\"Grade A\")\n",
    "elif Percentage >= 70:\n",
    "    grade =(\"Grade B\")\n",
    "elif Percentage >= 60:\n",
    "    grade =(\"Grade C\")\n",
    "elif Percentage >= 50:\n",
    "    grade =(\"Grade D\")\n",
    "else:\n",
    "    grade = (\"F\")\n",
    "    print (\"Congratulations, You have Failed\")\n",
    "print(\"Your total marks are \"+ str (Total) + \"\\nYour Percentage is \"+ str(Percentage) +  \"\\nYour Grade is \"+ str(grade))"
   ]
  },
  {
   "cell_type": "code",
   "execution_count": null,
   "metadata": {},
   "outputs": [],
   "source": []
  }
 ],
 "metadata": {
  "kernelspec": {
   "display_name": "Python 3",
   "language": "python",
   "name": "python3"
  },
  "language_info": {
   "codemirror_mode": {
    "name": "ipython",
    "version": 3
   },
   "file_extension": ".py",
   "mimetype": "text/x-python",
   "name": "python",
   "nbconvert_exporter": "python",
   "pygments_lexer": "ipython3",
   "version": "3.7.1"
  }
 },
 "nbformat": 4,
 "nbformat_minor": 2
}
