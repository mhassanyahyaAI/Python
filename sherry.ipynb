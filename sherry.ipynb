{
 "cells": [
  {
   "cell_type": "code",
   "execution_count": null,
   "metadata": {},
   "outputs": [],
   "source": [
    "print(\"Hello\")"
   ]
  },
  {
   "cell_type": "markdown",
   "metadata": {},
   "source": [
    "# our first class# "
   ]
  },
  {
   "cell_type": "markdown",
   "metadata": {},
   "source": [
    "this is our first class"
   ]
  },
  {
   "cell_type": "code",
   "execution_count": null,
   "metadata": {},
   "outputs": [],
   "source": [
    "print(1234+1)\n"
   ]
  },
  {
   "cell_type": "code",
   "execution_count": null,
   "metadata": {},
   "outputs": [],
   "source": [
    "print(\"1234\")"
   ]
  },
  {
   "cell_type": "code",
   "execution_count": null,
   "metadata": {},
   "outputs": [],
   "source": [
    "print('this is AI class\\n')"
   ]
  },
  {
   "cell_type": "code",
   "execution_count": null,
   "metadata": {},
   "outputs": [],
   "source": [
    "print(\"languages:\\npython\\nruby\\njavascript\")"
   ]
  },
  {
   "cell_type": "code",
   "execution_count": null,
   "metadata": {},
   "outputs": [],
   "source": [
    "print(\"language:\\n\\tpyton\\n\\tc\\n\\tjavascript\")"
   ]
  },
  {
   "cell_type": "code",
   "execution_count": null,
   "metadata": {},
   "outputs": [],
   "source": [
    "print(\"language:\\n\\tpyton\\n\\tc\\ntjavascript\")"
   ]
  },
  {
   "cell_type": "code",
   "execution_count": null,
   "metadata": {},
   "outputs": [],
   "source": [
    "num=10\n",
    "print(num)"
   ]
  },
  {
   "cell_type": "code",
   "execution_count": null,
   "metadata": {},
   "outputs": [],
   "source": [
    "a=10\n",
    "a"
   ]
  },
  {
   "cell_type": "code",
   "execution_count": null,
   "metadata": {},
   "outputs": [],
   "source": [
    "a=10\n",
    "a\n",
    "print(a)"
   ]
  },
  {
   "cell_type": "code",
   "execution_count": null,
   "metadata": {},
   "outputs": [],
   "source": [
    "name=\"shehryaar\"\n",
    "name=\"muhammad ali\"\n",
    "print(name)"
   ]
  },
  {
   "cell_type": "code",
   "execution_count": null,
   "metadata": {},
   "outputs": [],
   "source": [
    "print(\"hello python\")"
   ]
  },
  {
   "cell_type": "code",
   "execution_count": null,
   "metadata": {},
   "outputs": [],
   "source": [
    "num_1= 150\n",
    "print(num_1+20)"
   ]
  },
  {
   "cell_type": "code",
   "execution_count": null,
   "metadata": {},
   "outputs": [],
   "source": [
    "num_1=20\n",
    "num_2=30\n",
    "num_3=40\n",
    "print(num_1+num_2+num_3)"
   ]
  },
  {
   "cell_type": "code",
   "execution_count": null,
   "metadata": {},
   "outputs": [],
   "source": [
    "num=10\n",
    "another_num=1.5\n",
    "total=num+another_num\n",
    "print(total)"
   ]
  },
  {
   "cell_type": "code",
   "execution_count": null,
   "metadata": {},
   "outputs": [],
   "source": [
    "FirstName='syed'\n",
    "middlename='zohaib'\n",
    "lastname='owais'\n",
    "full_name=firstname=\"\"+middlename+\"\"+lastname\n",
    "print(full_name)\n",
    "print(full_name.title())\n",
    "print(full_name.lower())\n",
    "print(full_name.upper())\n"
   ]
  },
  {
   "cell_type": "code",
   "execution_count": null,
   "metadata": {},
   "outputs": [],
   "source": [
    "# %load hello.py\n",
    "print(\"hello world\")"
   ]
  },
  {
   "cell_type": "code",
   "execution_count": null,
   "metadata": {},
   "outputs": [],
   "source": [
    "string message = \"DA\"\n"
   ]
  },
  {
   "cell_type": "code",
   "execution_count": null,
   "metadata": {},
   "outputs": [],
   "source": [
    "message = \"DA\"\n",
    "print (message)\n",
    "type (message)\n"
   ]
  },
  {
   "cell_type": "code",
   "execution_count": null,
   "metadata": {},
   "outputs": [],
   "source": [
    "num1 = int(input(\"Enter First Number: \"))\n",
    "num2 = input(\"Enter Second Number: \")\n",
    "total = num1 + num2\n",
    "print(total)\n"
   ]
  },
  {
   "cell_type": "code",
   "execution_count": null,
   "metadata": {},
   "outputs": [],
   "source": [
    "num11 = int(input(\"Enter an integer value:==>\"))\n",
    "num22 = int(input(\"Enter an integer value:==>\"))\n",
    "\n",
    "total = str(num11 + num22)\n",
    "\n",
    "print(\"The total of two inputs \" + total)"
   ]
  },
  {
   "cell_type": "code",
   "execution_count": null,
   "metadata": {},
   "outputs": [],
   "source": [
    "tomatoprice = input (\"What is the price of 1KG tomato? : \")\n",
    "\n",
    "if tomatoprice == 100:\n",
    "    print(\"Buy 1 KG\")\n",
    "else:\n",
    "    print (\"Buy 1/2 KG\")\n"
   ]
  },
  {
   "cell_type": "code",
   "execution_count": null,
   "metadata": {},
   "outputs": [],
   "source": [
    "number33 = int(input (\"Enter a number: \"))\n",
    "if number33%2 == 0:\n",
    "    print (\"Even Number\")\n",
    "else:\n",
    "    print (\"Odd Number\")"
   ]
  },
  {
   "cell_type": "code",
   "execution_count": null,
   "metadata": {},
   "outputs": [],
   "source": [
    "number44 = input (\"Enter an even number: \")\n",
    "if number44%2 == 0:\n",
    "    \n",
    "else:\n",
    "    print (\"This is not an even number\")"
   ]
  },
  {
   "cell_type": "code",
   "execution_count": null,
   "metadata": {},
   "outputs": [],
   "source": [
    "x = int(input())\n",
    "y=x/2\n",
    "print(y)\n",
    "#if x/2 == :\n",
    "   # print(\"Even\")\n",
    "#else:\n",
    "    #print (\"ODD\")\n"
   ]
  },
  {
   "cell_type": "code",
   "execution_count": null,
   "metadata": {},
   "outputs": [],
   "source": [
    "z = int(input())\n",
    "d = z//2\n",
    "print(type(d))\n",
    "if type(d)=='int':\n",
    "    print (\"even\")\n",
    "else:\n",
    "    print(\"odd\")"
   ]
  },
  {
   "cell_type": "code",
   "execution_count": null,
   "metadata": {},
   "outputs": [],
   "source": [
    "5/2"
   ]
  },
  {
   "cell_type": "code",
   "execution_count": null,
   "metadata": {},
   "outputs": [],
   "source": [
    "5//2"
   ]
  },
  {
   "cell_type": "code",
   "execution_count": null,
   "metadata": {},
   "outputs": [],
   "source": [
    "5*2"
   ]
  },
  {
   "cell_type": "code",
   "execution_count": null,
   "metadata": {},
   "outputs": [],
   "source": [
    "a=5*2\n",
    "print(type(a))"
   ]
  },
  {
   "cell_type": "code",
   "execution_count": null,
   "metadata": {},
   "outputs": [],
   "source": [
    "5\n",
    "print(type(5.0))"
   ]
  },
  {
   "cell_type": "code",
   "execution_count": null,
   "metadata": {},
   "outputs": [],
   "source": [
    "3-12"
   ]
  },
  {
   "cell_type": "code",
   "execution_count": null,
   "metadata": {},
   "outputs": [],
   "source": [
    "print (\"abdullah \"* 2)"
   ]
  },
  {
   "cell_type": "code",
   "execution_count": null,
   "metadata": {},
   "outputs": [],
   "source": [
    "ab=50\n",
    "ab**=2\n",
    "ab"
   ]
  },
  {
   "cell_type": "code",
   "execution_count": null,
   "metadata": {},
   "outputs": [],
   "source": [
    "temperature = float(input(\"What is the temperature today? \"))\n",
    "if temperature >= 31:\n",
    "    print (\"Wear Shorts\")\n",
    "else:\n",
    "    print (\"Wear Jeans\")"
   ]
  },
  {
   "cell_type": "code",
   "execution_count": null,
   "metadata": {},
   "outputs": [],
   "source": [
    "x = float(input(\"Enter your marks out of 100 :  \"))\n",
    "if x >100:\n",
    "    print (\"Wrong Input\")\n",
    "elif x >= 90:\n",
    "    print(\"Grade A*\")\n",
    "elif x>= 80:\n",
    "    print (\"Grade A\")\n",
    "elif x >= 70:\n",
    "    print (\"Grade B\")\n",
    "elif x >= 60:\n",
    "    print (\"Grade C\")\n",
    "elif x >= 50:\n",
    "    print (\"Grade D\")\n",
    "else:\n",
    "    print (\"Congratulations, You have Failed\")"
   ]
  },
  {
   "cell_type": "code",
   "execution_count": null,
   "metadata": {},
   "outputs": [],
   "source": [
    "Urdu = float(input(\"Enter Your Urdu Marks: \"))\n",
    "English = float (input(\"Enter Your English Marks: \"))\n",
    "Maths = float (input(\"Enter Your Maths Marks: \"))\n",
    "Science = float (input(\"Enter Your Science Marks: \"))\n",
    "Computer = float (input(\"Enter Your Computer Marks: \"))\n",
    "\n",
    "Total = Urdu + English + Maths + Science + Computer\n",
    "\n",
    "if Urdu == 0 or English == 0 or Maths == 0 or Science == 0 or Computer == 0:\n",
    "    grade = \"No Grade can be assigned\"\n",
    "    print(\"You were Absent, therefore, No Grade can be assigned\")\n",
    "else:\n",
    "    Percentage = round(Total/500 * 100,2)\n",
    "    if Percentage >100:\n",
    "        print (\"Wrong Input\")\n",
    "    elif Percentage >= 90:\n",
    "        grade =(\"Grade A*\")\n",
    "    elif Percentage>= 80:\n",
    "        grade =(\"Grade A\")\n",
    "    elif Percentage >= 70:\n",
    "        grade =(\"Grade B\")\n",
    "    elif Percentage >= 60:\n",
    "        grade =(\"Grade C\")\n",
    "    elif Percentage >= 50:\n",
    "        grade =(\"Grade D\")\n",
    "    else:\n",
    "        grade = (\"F\")\n",
    "        print (\"Congratulations, You have Failed\")\n",
    "\n",
    "Message =\"Your total marks are \"+ str (Total) + \"\\nYour Percentage is \"+ str(Percentage)\n",
    "if Urdu != 0 and English != 0 and Maths != 0 and Science != 0 and Computer != 0:\n",
    "    Message = Message + \"\\nYour Grade is \"+ str(grade)\n",
    "print(Message)\n",
    "    "
   ]
  },
  {
   "cell_type": "code",
   "execution_count": null,
   "metadata": {},
   "outputs": [],
   "source": [
    "agex = int(input(\"What's your age? \"))\n",
    "if agex >= 18:\n",
    "    cnic=input(\"Do you have a cnic card? [Y/N]\").upper()\n",
    "    if cnic ==\"Y\":\n",
    "        city=input(\"Which city you belong to? \").upper()\n",
    "        if cnic == \"Y\" and city == \"KARACHI\":\n",
    "            print(\"You are eligible to vote\")\n",
    "        else:\n",
    "            print(\"Sorry you are not eligible to vote for this area\")\n",
    "    else:\n",
    "        print(\"Bring your CNIC first\")\n",
    "else:\n",
    "    print(\"You are under aged\" + \"\\nYou can caste vote after \"+str(18-agex)+\" years\")\n",
    "\n"
   ]
  },
  {
   "cell_type": "code",
   "execution_count": null,
   "metadata": {},
   "outputs": [],
   "source": [
    "#ask for the atm pin\n",
    "#withdraw or deposit\n",
    "#deposit amount/withdraw amount\n",
    "#add balance with desposit amount\n",
    "#show current balance\n",
    "#withdraw excess amount\n"
   ]
  },
  {
   "cell_type": "code",
   "execution_count": null,
   "metadata": {},
   "outputs": [],
   "source": [
    "print(\"\\t\\tWelcome to HBL\\n\\t   24 Hour Banking Solution\")\n",
    "balance = 1000\n",
    "pin = int(input(\"Enter your PIN: \"))\n",
    "if pin == 1080:\n",
    "    action_required = input(\"How can I Help You? \\nFor Balance Enquiry, Enter 'B' \\nFor Withdrawal, Enter 'W' \\nFor Deposit, Enter 'D'\\n\").upper()\n",
    "    if action_required ==\"B\":\n",
    "        print(\"Your Balance amount is \"+\"Rs.\"+str(balance))\n",
    "    elif action_required ==\"W\":\n",
    "        W_amount=int(input(\"Enter your Withdrawal Amount: \"))\n",
    "        if W_amount>=balance:\n",
    "            print(\"You have insufficient Balance\")\n",
    "        else:\n",
    "            balance = balance - W_amount\n",
    "            print(\"Your remaining balance is: Rs.\"+str(balance))\n",
    "    elif action_required ==\"D\":\n",
    "        D_amount=int(input(\"Enter the amount you want to Deposit: \"))\n",
    "        balance=balance+D_amount\n",
    "        print(\"Your Balance after deposit is: Rs.\"+str(balance))\n",
    "else:\n",
    "    print(\"You have entered wrong PIN\")\n",
    "print(\"Thanks for using our ATM service, Have a Good Day :)\")\n",
    "        "
   ]
  },
  {
   "cell_type": "code",
   "execution_count": null,
   "metadata": {},
   "outputs": [],
   "source": [
    "banks = ['HBL', 'Al Baraka', 'Meezan', 'Askari']\n",
    "print(banks)\n",
    "print(banks[0])\n",
    "print(banks[3])\n",
    "banks.append('HMBL')\n",
    "print(banks)\n",
    "print(banks[-1])"
   ]
  },
  {
   "cell_type": "code",
   "execution_count": null,
   "metadata": {},
   "outputs": [],
   "source": [
    "banks = ['HBL', 'Al Baraka', 'Meezan', 'Askari']\n",
    "print(banks)\n",
    "print(banks[0])\n",
    "print(banks[3])\n",
    "banks.append('HMBL')\n",
    "print(banks)\n",
    "print(banks[-1])\n",
    "banks[0]='MCB'\n",
    "\n",
    "print(\"\\n\"+str(banks))"
   ]
  },
  {
   "cell_type": "code",
   "execution_count": null,
   "metadata": {},
   "outputs": [],
   "source": [
    "islamicbanks=[]\n",
    "islamicbanks.append('Meezan')\n",
    "islamicbanks.append('MCB')\n",
    "islamicbanks.append('AlBaraka')\n",
    "islamicbanks.append('UBL')\n",
    "print(islamicbanks)\n",
    "islamicbanks.sort()\n",
    "print(islamicbanks)"
   ]
  },
  {
   "cell_type": "code",
   "execution_count": null,
   "metadata": {},
   "outputs": [],
   "source": [
    "islamicbanks.insert(2,'BankIslami')\n",
    "print(islamicbanks)"
   ]
  },
  {
   "cell_type": "code",
   "execution_count": null,
   "metadata": {},
   "outputs": [],
   "source": [
    "islamicbanks.insert(7,'FaysalBank')\n",
    "print(islamicbanks)"
   ]
  },
  {
   "cell_type": "code",
   "execution_count": null,
   "metadata": {},
   "outputs": [],
   "source": [
    "islamicbanks.insert(6,'HBL')"
   ]
  },
  {
   "cell_type": "code",
   "execution_count": null,
   "metadata": {},
   "outputs": [],
   "source": [
    "print(islamicbanks)"
   ]
  },
  {
   "cell_type": "code",
   "execution_count": null,
   "metadata": {},
   "outputs": [],
   "source": [
    "todolist=[]\n",
    "todolist.append('Task 1')\n",
    "todolist.append('Task 2')\n",
    "todolist.append('Task 3')\n",
    "todolist.append('Task 4')\n",
    "todolist.append('Task 5')\n",
    "print(todolist)\n",
    "taskcomplete=[]\n",
    "\n",
    "todo=input(\"Have you completed Task 1? Enter (Y/N) \").upper()\n",
    "if todo == 'Y':\n",
    "    taskcomplete.append(todolist.pop(-5))\n",
    "    print(taskcomplete)\n",
    "    print(todolist)\n",
    "else:\n",
    "    print(\"Kindly complete the task first\")\n",
    "    quit()\n",
    "\n",
    "todo=input(\"Have you completed Task 2? Enter (Y/N) \").upper()\n",
    "if todo =='Y':\n",
    "    taskcomplete.append(todolist.pop(-4))\n",
    "    print(\"Task completed\", taskcomplete)\n",
    "    print(todolist)\n",
    "else:\n",
    "    print(\"Kindly complete the task first\")\n",
    "\n",
    "todo=input(\"Have you completed Task 3? Enter (Y/N) \").upper()\n",
    "if todo =='Y':\n",
    "    taskcomplete.append(todolist.pop(-3))\n",
    "    print(taskcomplete)\n",
    "    print(todolist)\n",
    "else:\n",
    "    print(\"Kindly complete the task first\")\n",
    "\n",
    "todo=input(\"Have you completed Task 4? Enter (Y/N) \").upper()\n",
    "if todo =='Y':\n",
    "    taskcomplete.append(todolist.pop(-2))\n",
    "    print(taskcomplete)\n",
    "    print(todolist)\n",
    "else:\n",
    "    print(\"Kindly complete the task first\")                \n",
    "\n",
    "todo=input(\"Have you completed Task 5? Enter (Y/N) \").upper()\n",
    "if todo =='Y':\n",
    "    taskcomplete.append(todolist.pop(-1))\n",
    "    print(taskcomplete)\n",
    "    print(todolist)\n",
    "else:\n",
    "    print(\"Kindly complete the task first\")\n",
    "        \n",
    "\n"
   ]
  },
  {
   "cell_type": "code",
   "execution_count": 1,
   "metadata": {},
   "outputs": [
    {
     "name": "stdout",
     "output_type": "stream",
     "text": [
      "['Task 1', 'Task 2', 'Task 3', 'Task 4', 'Task 5']\n",
      "Enter the completed Task task 1\n"
     ]
    }
   ],
   "source": [
    "todolist=[]\n",
    "todolist.append('Task 1')\n",
    "todolist.append('Task 2')\n",
    "todolist.append('Task 3')\n",
    "todolist.append('Task 4')\n",
    "todolist.append('Task 5')\n",
    "print(todolist)\n",
    "taskcomplete=[]\n",
    "status=input(\"Enter the completed Task \")\n",
    "if status in todolist:\n",
    "    taskcomplete.append(todolist.pop(todolist.index(status)))\n",
    "    print(taskcomplete)"
   ]
  },
  {
   "cell_type": "code",
   "execution_count": null,
   "metadata": {},
   "outputs": [],
   "source": [
    "islamicbanks[2:100]"
   ]
  },
  {
   "cell_type": "code",
   "execution_count": null,
   "metadata": {},
   "outputs": [],
   "source": [
    "#slicing will only be applicable when moving from right to left, irrespective of the negative numbering\n",
    "\n",
    "# listname[start:end], where end is not inclusive.\n"
   ]
  },
  {
   "cell_type": "code",
   "execution_count": null,
   "metadata": {},
   "outputs": [],
   "source": [
    "islamicbanks[0:]"
   ]
  },
  {
   "cell_type": "code",
   "execution_count": 13,
   "metadata": {},
   "outputs": [
    {
     "name": "stdout",
     "output_type": "stream",
     "text": [
      "Abdullah\n",
      "Abdullah , I would like to invite you on dinner at 08:00pm\n",
      "Ahsan , I would like to invite you on dinner at 08:00pm\n",
      "Anus , I would like to invite you on dinner at 08:00pm\n",
      "Ahmed , I would like to invite you on dinner at 08:00pm\n"
     ]
    }
   ],
   "source": [
    "dinnerinvite=[\"Abdullah\",\"Ahsan\",\"Anus\",\"Ahmed\"]\n",
    "abdullah=dinnerinvite[0]\n",
    "print(dinnerinvite[0] ,\", I would like to invite you on dinner at 08:00pm\")\n",
    "print(dinnerinvite[1] ,\", I would like to invite you on dinner at 08:00pm\")\n",
    "print(dinnerinvite[2] ,\", I would like to invite you on dinner at 08:00pm\")\n",
    "print(dinnerinvite[3] ,\", I would like to invite you on dinner at 08:00pm\")\n"
   ]
  },
  {
   "cell_type": "code",
   "execution_count": 17,
   "metadata": {},
   "outputs": [
    {
     "name": "stdout",
     "output_type": "stream",
     "text": [
      "['Anwar', 'Anwar', 'Anwar', 'Hassan', 'Anwar', 'Hassan', 'Abdullah', 'Hassan', 'Ahsan', 'Anus', 'Ahmed', 'Sarfaraz', 'Sarfaraz']\n"
     ]
    }
   ],
   "source": [
    "dinnerinvite.insert(0,\"Anwar\")\n",
    "dinnerinvite.insert(3,\"Hassan\")\n",
    "dinnerinvite.append(\"Sarfaraz\")\n",
    "print (dinnerinvite)"
   ]
  },
  {
   "cell_type": "code",
   "execution_count": 20,
   "metadata": {},
   "outputs": [
    {
     "name": "stdout",
     "output_type": "stream",
     "text": [
      "We would like to inform you all that we have secured a bigger dinning table so we are increasing the number of invites\n",
      "Anwar , I would like to invite you on dinner at 08:00pm\n",
      "Hassan , I would like to invite you on dinner at 08:00pm\n",
      "Abdullah , I would like to invite you on dinner at 08:00pm\n",
      "Ahsan , I would like to invite you on dinner at 08:00pm\n",
      "Anus , I would like to invite you on dinner at 08:00pm\n",
      "Ahmed , I would like to invite you on dinner at 08:00pm\n"
     ]
    }
   ],
   "source": [
    "print(\"We would like to inform you all that we have secured a bigger dinning table so we are increasing the number of invites\")\n",
    "\n",
    "print(dinnerinvite[0] ,\", I would like to invite you on dinner at 08:00pm\")\n",
    "print(dinnerinvite[3] ,\", I would like to invite you on dinner at 08:00pm\")\n",
    "print(dinnerinvite[6] ,\", I would like to invite you on dinner at 08:00pm\")\n",
    "print(dinnerinvite[8] ,\", I would like to invite you on dinner at 08:00pm\")\n",
    "print(dinnerinvite[9] ,\", I would like to invite you on dinner at 08:00pm\")\n",
    "print(dinnerinvite[10] ,\", I would like to invite you on dinner at 08:00pm\")\n"
   ]
  },
  {
   "cell_type": "code",
   "execution_count": null,
   "metadata": {},
   "outputs": [],
   "source": []
  }
 ],
 "metadata": {
  "kernelspec": {
   "display_name": "Python 3",
   "language": "python",
   "name": "python3"
  },
  "language_info": {
   "codemirror_mode": {
    "name": "ipython",
    "version": 3
   },
   "file_extension": ".py",
   "mimetype": "text/x-python",
   "name": "python",
   "nbconvert_exporter": "python",
   "pygments_lexer": "ipython3",
   "version": "3.7.1"
  }
 },
 "nbformat": 4,
 "nbformat_minor": 2
}
