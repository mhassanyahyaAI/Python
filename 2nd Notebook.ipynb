{
 "cells": [
  {
   "cell_type": "markdown",
   "metadata": {},
   "source": [
    "\n",
    "# Looping/Loops for Lists"
   ]
  },
  {
   "cell_type": "code",
   "execution_count": 2,
   "metadata": {},
   "outputs": [
    {
     "name": "stdout",
     "output_type": "stream",
     "text": [
      "Hassan\n",
      "Hassan\n",
      "Hassan\n",
      "Hassan\n",
      "Hassan\n",
      "Hassan\n",
      "Hassan\n",
      "Hassan\n",
      "Hassan\n",
      "Hassan\n"
     ]
    }
   ],
   "source": [
    "for a in range(10):\n",
    "    print(\"Hassan\")\n",
    "#"
   ]
  },
  {
   "cell_type": "code",
   "execution_count": 6,
   "metadata": {},
   "outputs": [
    {
     "name": "stdout",
     "output_type": "stream",
     "text": [
      "-13 HJ\n",
      "-12 HJ\n",
      "-11 HJ\n",
      "-10 HJ\n",
      "-9 HJ\n",
      "-8 HJ\n",
      "-7 HJ\n",
      "-6 HJ\n",
      "-5 HJ\n",
      "-4 HJ\n",
      "-3 HJ\n",
      "-2 HJ\n",
      "-1 HJ\n",
      "0 HJ\n",
      "1 HJ\n",
      "2 HJ\n",
      "3 HJ\n",
      "4 HJ\n",
      "5 HJ\n",
      "6 HJ\n",
      "7 HJ\n",
      "8 HJ\n",
      "9 HJ\n",
      "10 HJ\n",
      "11 HJ\n",
      "12 HJ\n",
      "13 HJ\n",
      "14 HJ\n"
     ]
    }
   ],
   "source": [
    "for b in range(-13,15):\n",
    "    print(b,\"HJ\")"
   ]
  },
  {
   "cell_type": "code",
   "execution_count": 8,
   "metadata": {},
   "outputs": [
    {
     "name": "stdout",
     "output_type": "stream",
     "text": [
      "1 HJ\n",
      "5 HJ\n",
      "9 HJ\n",
      "13 HJ\n"
     ]
    }
   ],
   "source": [
    "for x in range(1,15,4):\n",
    "    print(x,\"HJ\")\n"
   ]
  },
  {
   "cell_type": "code",
   "execution_count": 20,
   "metadata": {},
   "outputs": [
    {
     "name": "stdout",
     "output_type": "stream",
     "text": [
      "1\n",
      "3\n",
      "5\n",
      "7\n",
      "9\n",
      "0\n",
      "2\n",
      "4\n",
      "6\n",
      "8\n"
     ]
    }
   ],
   "source": [
    "for odd in range(1,10,2):\n",
    "    print(odd)\n",
    "for even in range(0,10,2):\n",
    "    print(even)\n"
   ]
  },
  {
   "cell_type": "code",
   "execution_count": 30,
   "metadata": {},
   "outputs": [
    {
     "name": "stdout",
     "output_type": "stream",
     "text": [
      "6\n"
     ]
    }
   ],
   "source": [
    "benaam=[11,22,33,44,55,66]\n",
    "print(len(benaam))"
   ]
  },
  {
   "cell_type": "code",
   "execution_count": 62,
   "metadata": {},
   "outputs": [
    {
     "name": "stdout",
     "output_type": "stream",
     "text": [
      "[22, 44, 66]\n",
      "[11, 33, 55]\n",
      "Even Numbers are the following: \n",
      "22 44 66 \n",
      "Even Numbers are the following: \n",
      "11 33 55 "
     ]
    }
   ],
   "source": [
    "oddlist=[]\n",
    "evenlist=[]\n",
    "\n",
    "for num in range(len(benaam)):\n",
    "    \n",
    "    ax=benaam[num]%2\n",
    "    if (ax==0):\n",
    "        evenlist.append(benaam[num])\n",
    "    else:\n",
    "        oddlist.append(benaam[num])\n",
    "print (evenlist)\n",
    "print(oddlist)\n",
    "\n",
    "print(\"Even Numbers are the following: \")\n",
    "for even in evenlist:\n",
    "    print(even,end=\" \" )\n",
    "print(\"\\nEven Numbers are the following: \")\n",
    "for odd in oddlist:\n",
    "    print(odd,end=' ')"
   ]
  },
  {
   "cell_type": "code",
   "execution_count": 33,
   "metadata": {},
   "outputs": [
    {
     "name": "stdout",
     "output_type": "stream",
     "text": [
      "11\n",
      "22\n",
      "33\n",
      "44\n",
      "55\n",
      "66\n"
     ]
    }
   ],
   "source": [
    "for z in benaam:\n",
    "    print(z)"
   ]
  },
  {
   "cell_type": "code",
   "execution_count": 36,
   "metadata": {},
   "outputs": [
    {
     "name": "stdout",
     "output_type": "stream",
     "text": [
      "22\n",
      "44\n",
      "66\n"
     ]
    }
   ],
   "source": [
    "for z in benaam:\n",
    "    if z%2 == 0:\n",
    "        print(z)"
   ]
  },
  {
   "cell_type": "code",
   "execution_count": 56,
   "metadata": {},
   "outputs": [
    {
     "name": "stdout",
     "output_type": "stream",
     "text": [
      "0 1 2 3 4 5 6 7 8 9 "
     ]
    }
   ],
   "source": [
    "for a  in range(10):\n",
    "    print(a, end=\" \")"
   ]
  },
  {
   "cell_type": "code",
   "execution_count": 76,
   "metadata": {},
   "outputs": [
    {
     "name": "stdout",
     "output_type": "stream",
     "text": [
      "These are my close friends: \n",
      "['Ikram', 'Tahir']\n"
     ]
    }
   ],
   "source": [
    "friends=[\"Abdullah\", \"Ahmer\", \"Haris\", \"Ikram\", \"RS\", \"Tahir\"]\n",
    "relatives=[\"Imran\", \"Moosa\", \"Ikram\", \"Salman\", \"Uzair\", \"Danish\",\"Tahir\"]\n",
    "closefriends=[]\n",
    "\n",
    "print(\"These are my close friends: \")\n",
    "\n",
    "for re in relatives:\n",
    "    if re in friends:\n",
    "        closefriends.append(re)\n",
    "print(closefriends)\n",
    "\n",
    "\n",
    "\n",
    "   \n",
    "\n",
    "\n"
   ]
  },
  {
   "cell_type": "code",
   "execution_count": 84,
   "metadata": {},
   "outputs": [
    {
     "name": "stdout",
     "output_type": "stream",
     "text": [
      "These are my close friends: \n",
      "IkramandTahirand"
     ]
    }
   ],
   "source": [
    "friends=[\"Abdullah\", \"Ahmer\", \"Haris\", \"Ikram\", \"RS\", \"Tahir\"]\n",
    "relatives=[\"Imran\", \"Moosa\", \"Ikram\", \"Salman\", \"Uzair\", \"Danish\",\"Tahir\",\"Aashir\"]\n",
    "closefriends=[]\n",
    "\n",
    "print(\"These are my close friends: \")\n",
    "\n",
    "for re in relatives:\n",
    "    if re in friends:\n",
    "        print(re,end=\"and\")\n",
    "\n",
    "\n",
    "\n",
    "   \n",
    "\n",
    "\n"
   ]
  },
  {
   "cell_type": "code",
   "execution_count": 82,
   "metadata": {},
   "outputs": [
    {
     "name": "stdout",
     "output_type": "stream",
     "text": [
      "Ikram\n",
      "RS\n",
      "Tahir\n"
     ]
    }
   ],
   "source": [
    "for name in friends[3:]:\n",
    "    print(name)"
   ]
  },
  {
   "cell_type": "code",
   "execution_count": 85,
   "metadata": {},
   "outputs": [
    {
     "name": "stdout",
     "output_type": "stream",
     "text": [
      "My first 3 relatives are: \n",
      "Imran\n",
      "Moosa\n",
      "Ikram\n",
      "\n",
      "My 3 relatives in the middle of the list are: \n",
      "Salman\n",
      "Uzair\n",
      "Danish\n",
      "\n",
      "My last relatives in the list are: \n",
      "Danish\n",
      "Tahir\n",
      "Aashir\n"
     ]
    }
   ],
   "source": [
    "print(\"My first 3 relatives are: \")\n",
    "for zz in relatives [:3]:\n",
    "    print(zz)\n",
    "print(\"\\nMy 3 relatives in the middle of the list are: \")\n",
    "for mid in relatives [3:6]:\n",
    "    print (mid)\n",
    "print(\"\\nMy last relatives in the list are: \")\n",
    "for last in relatives [5:]:\n",
    "    print (last)"
   ]
  },
  {
   "cell_type": "code",
   "execution_count": null,
   "metadata": {},
   "outputs": [],
   "source": []
  }
 ],
 "metadata": {
  "kernelspec": {
   "display_name": "Python 3",
   "language": "python",
   "name": "python3"
  },
  "language_info": {
   "codemirror_mode": {
    "name": "ipython",
    "version": 3
   },
   "file_extension": ".py",
   "mimetype": "text/x-python",
   "name": "python",
   "nbconvert_exporter": "python",
   "pygments_lexer": "ipython3",
   "version": "3.7.1"
  }
 },
 "nbformat": 4,
 "nbformat_minor": 2
}
