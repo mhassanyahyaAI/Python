{
 "cells": [
  {
   "cell_type": "markdown",
   "metadata": {},
   "source": [
    "\n",
    "# Looping/Loops for Lists"
   ]
  },
  {
   "cell_type": "code",
   "execution_count": 2,
   "metadata": {},
   "outputs": [
    {
     "name": "stdout",
     "output_type": "stream",
     "text": [
      "Hassan\n",
      "Hassan\n",
      "Hassan\n",
      "Hassan\n",
      "Hassan\n",
      "Hassan\n",
      "Hassan\n",
      "Hassan\n",
      "Hassan\n",
      "Hassan\n"
     ]
    }
   ],
   "source": [
    "for a in range(10):\n",
    "    print(\"Hassan\")\n",
    "#"
   ]
  },
  {
   "cell_type": "code",
   "execution_count": 6,
   "metadata": {},
   "outputs": [
    {
     "name": "stdout",
     "output_type": "stream",
     "text": [
      "-13 HJ\n",
      "-12 HJ\n",
      "-11 HJ\n",
      "-10 HJ\n",
      "-9 HJ\n",
      "-8 HJ\n",
      "-7 HJ\n",
      "-6 HJ\n",
      "-5 HJ\n",
      "-4 HJ\n",
      "-3 HJ\n",
      "-2 HJ\n",
      "-1 HJ\n",
      "0 HJ\n",
      "1 HJ\n",
      "2 HJ\n",
      "3 HJ\n",
      "4 HJ\n",
      "5 HJ\n",
      "6 HJ\n",
      "7 HJ\n",
      "8 HJ\n",
      "9 HJ\n",
      "10 HJ\n",
      "11 HJ\n",
      "12 HJ\n",
      "13 HJ\n",
      "14 HJ\n"
     ]
    }
   ],
   "source": [
    "for b in range(-13,15):\n",
    "    print(b,\"HJ\")"
   ]
  },
  {
   "cell_type": "code",
   "execution_count": 8,
   "metadata": {},
   "outputs": [
    {
     "name": "stdout",
     "output_type": "stream",
     "text": [
      "1 HJ\n",
      "5 HJ\n",
      "9 HJ\n",
      "13 HJ\n"
     ]
    }
   ],
   "source": [
    "for x in range(1,15,4):\n",
    "    print(x,\"HJ\")\n"
   ]
  },
  {
   "cell_type": "code",
   "execution_count": 20,
   "metadata": {},
   "outputs": [
    {
     "name": "stdout",
     "output_type": "stream",
     "text": [
      "1\n",
      "3\n",
      "5\n",
      "7\n",
      "9\n",
      "0\n",
      "2\n",
      "4\n",
      "6\n",
      "8\n"
     ]
    }
   ],
   "source": [
    "for odd in range(1,10,2):\n",
    "    print(odd)\n",
    "for even in range(0,10,2):\n",
    "    print(even)\n"
   ]
  },
  {
   "cell_type": "code",
   "execution_count": 30,
   "metadata": {},
   "outputs": [
    {
     "name": "stdout",
     "output_type": "stream",
     "text": [
      "6\n"
     ]
    }
   ],
   "source": [
    "benaam=[11,22,33,44,55,66]\n",
    "print(len(benaam))"
   ]
  },
  {
   "cell_type": "code",
   "execution_count": 62,
   "metadata": {},
   "outputs": [
    {
     "name": "stdout",
     "output_type": "stream",
     "text": [
      "[22, 44, 66]\n",
      "[11, 33, 55]\n",
      "Even Numbers are the following: \n",
      "22 44 66 \n",
      "Even Numbers are the following: \n",
      "11 33 55 "
     ]
    }
   ],
   "source": [
    "oddlist=[]\n",
    "evenlist=[]\n",
    "\n",
    "for num in range(len(benaam)):\n",
    "    \n",
    "    ax=benaam[num]%2\n",
    "    if (ax==0):\n",
    "        evenlist.append(benaam[num])\n",
    "    else:\n",
    "        oddlist.append(benaam[num])\n",
    "print (evenlist)\n",
    "print(oddlist)\n",
    "\n",
    "print(\"Even Numbers are the following: \")\n",
    "for even in evenlist:\n",
    "    print(even,end=\" \" )\n",
    "print(\"\\nEven Numbers are the following: \")\n",
    "for odd in oddlist:\n",
    "    print(odd,end=' ')"
   ]
  },
  {
   "cell_type": "code",
   "execution_count": 33,
   "metadata": {},
   "outputs": [
    {
     "name": "stdout",
     "output_type": "stream",
     "text": [
      "11\n",
      "22\n",
      "33\n",
      "44\n",
      "55\n",
      "66\n"
     ]
    }
   ],
   "source": [
    "for z in benaam:\n",
    "    print(z)"
   ]
  },
  {
   "cell_type": "code",
   "execution_count": 36,
   "metadata": {},
   "outputs": [
    {
     "name": "stdout",
     "output_type": "stream",
     "text": [
      "22\n",
      "44\n",
      "66\n"
     ]
    }
   ],
   "source": [
    "for z in benaam:\n",
    "    if z%2 == 0:\n",
    "        print(z)"
   ]
  },
  {
   "cell_type": "code",
   "execution_count": 56,
   "metadata": {},
   "outputs": [
    {
     "name": "stdout",
     "output_type": "stream",
     "text": [
      "0 1 2 3 4 5 6 7 8 9 "
     ]
    }
   ],
   "source": [
    "for a  in range(10):\n",
    "    print(a, end=\" \")"
   ]
  },
  {
   "cell_type": "code",
   "execution_count": 76,
   "metadata": {},
   "outputs": [
    {
     "name": "stdout",
     "output_type": "stream",
     "text": [
      "These are my close friends: \n",
      "['Ikram', 'Tahir']\n"
     ]
    }
   ],
   "source": [
    "friends=[\"Abdullah\", \"Ahmer\", \"Haris\", \"Ikram\", \"RS\", \"Tahir\"]\n",
    "relatives=[\"Imran\", \"Moosa\", \"Ikram\", \"Salman\", \"Uzair\", \"Danish\",\"Tahir\"]\n",
    "closefriends=[]\n",
    "\n",
    "print(\"These are my close friends: \")\n",
    "\n",
    "for re in relatives:\n",
    "    if re in friends:\n",
    "        closefriends.append(re)\n",
    "print(closefriends)\n",
    "\n",
    "\n",
    "\n",
    "   \n",
    "\n",
    "\n"
   ]
  },
  {
   "cell_type": "code",
   "execution_count": 84,
   "metadata": {},
   "outputs": [
    {
     "name": "stdout",
     "output_type": "stream",
     "text": [
      "These are my close friends: \n",
      "IkramandTahirand"
     ]
    }
   ],
   "source": [
    "friends=[\"Abdullah\", \"Ahmer\", \"Haris\", \"Ikram\", \"RS\", \"Tahir\"]\n",
    "relatives=[\"Imran\", \"Moosa\", \"Ikram\", \"Salman\", \"Uzair\", \"Danish\",\"Tahir\",\"Aashir\"]\n",
    "closefriends=[]\n",
    "\n",
    "print(\"These are my close friends: \")\n",
    "\n",
    "for re in relatives:\n",
    "    if re in friends:\n",
    "        print(re,end=\"and\")\n",
    "\n",
    "\n",
    "\n",
    "   \n",
    "\n",
    "\n"
   ]
  },
  {
   "cell_type": "code",
   "execution_count": 82,
   "metadata": {},
   "outputs": [
    {
     "name": "stdout",
     "output_type": "stream",
     "text": [
      "Ikram\n",
      "RS\n",
      "Tahir\n"
     ]
    }
   ],
   "source": [
    "for name in friends[3:]:\n",
    "    print(name)"
   ]
  },
  {
   "cell_type": "code",
   "execution_count": 85,
   "metadata": {},
   "outputs": [
    {
     "name": "stdout",
     "output_type": "stream",
     "text": [
      "My first 3 relatives are: \n",
      "Imran\n",
      "Moosa\n",
      "Ikram\n",
      "\n",
      "My 3 relatives in the middle of the list are: \n",
      "Salman\n",
      "Uzair\n",
      "Danish\n",
      "\n",
      "My last relatives in the list are: \n",
      "Danish\n",
      "Tahir\n",
      "Aashir\n"
     ]
    }
   ],
   "source": [
    "print(\"My first 3 relatives are: \")\n",
    "for zz in relatives [:3]:\n",
    "    print(zz)\n",
    "print(\"\\nMy 3 relatives in the middle of the list are: \")\n",
    "for mid in relatives [3:6]:\n",
    "    print (mid)\n",
    "print(\"\\nMy last relatives in the list are: \")\n",
    "for last in relatives [5:]:\n",
    "    print (last)"
   ]
  },
  {
   "cell_type": "code",
   "execution_count": 8,
   "metadata": {},
   "outputs": [
    {
     "name": "stdout",
     "output_type": "stream",
     "text": [
      "My friends favorite pizza flavors are: \n",
      "Tikka\n",
      "Fajita\n",
      "Cheese\n",
      "Pepperoni\n",
      "\n",
      "My favorite pizza flavors are: \n",
      "Tikka\n",
      "Fajita\n",
      "Cheese\n",
      "Malaitikka\n"
     ]
    }
   ],
   "source": [
    "friendspizza = [\"Tikka\", \"Fajita\", \"Cheese\"]\n",
    "listofpizza = friendspizza [:] #copy list command\n",
    "\n",
    "friendspizza.append(\"Pepperoni\")\n",
    "listofpizza.append(\"Malaitikka\")\n",
    "\n",
    "print(\"My friends favorite pizza flavors are: \" )\n",
    "for friends in friendspizza:\n",
    "    print (friends)\n",
    "print(\"\\nMy favorite pizza flavors are: \" )\n",
    "for my in listofpizza:\n",
    "    print (my)\n",
    "    "
   ]
  },
  {
   "cell_type": "code",
   "execution_count": 21,
   "metadata": {},
   "outputs": [
    {
     "name": "stdout",
     "output_type": "stream",
     "text": [
      "\n",
      "Your name Ikram is available\n",
      "\n",
      "Your name Imran is available\n",
      "\n",
      "Your name Shiraz is available\n",
      "\n",
      "Hassan exists in the database\n",
      "\n",
      "Your name Shayan is available\n",
      "\n",
      "Moosa exists in the database\n",
      "\n",
      "Amjad exists in the database\n"
     ]
    }
   ],
   "source": [
    "current_users = [\"Hassan\",\"Uzair\",\"Salman\",\"Moosa\",\"Amjad\",\"MOOSA\"]\n",
    "new_users = [\"Ikram\",\"Imran\",\"Shiraz\",\"HASSAN\",\"Shayan\",\"Moosa\",\"amjad\"]\n",
    "\n",
    "for new in new_users:\n",
    "    if new.title() in current_users:\n",
    "        print(\"\\n\"+new.title()+\" exists in the database\")\n",
    "    else:\n",
    "        print(\"\\nYour name \" + new.title() + \" is available\")"
   ]
  },
  {
   "cell_type": "code",
   "execution_count": null,
   "metadata": {},
   "outputs": [],
   "source": [
    "# string formatting\n",
    "\n",
    "name = \"Fahad\"\n",
    "f_name = \"Ali\"\n",
    "\n",
    "print(\"My friend's name is {} and his father's name is {}\".format(name,f_name))\n",
    "#{} are known as placeholders, and can insert index numbers in curly brackets\n",
    "print(\"My friend's name is {1} and his father's name is {1}\".format(name,f_name))"
   ]
  },
  {
   "cell_type": "code",
   "execution_count": 26,
   "metadata": {},
   "outputs": [
    {
     "name": "stdout",
     "output_type": "stream",
     "text": [
      "My friend's name is Fahad and his father's name is Ali\n"
     ]
    }
   ],
   "source": [
    "print(f\"My friend's name is {name} and his father's name is {f_name}\")"
   ]
  },
  {
   "cell_type": "code",
   "execution_count": 33,
   "metadata": {},
   "outputs": [
    {
     "name": "stdout",
     "output_type": "stream",
     "text": [
      "My name is Muhammad Hassan and my roll number is 502\n"
     ]
    }
   ],
   "source": [
    "roll_number = 502\n",
    "name = \"Muhammad Hassan\"\n",
    "# print(\"My name is \" + name + \"and my roll number is \"+ roll_number)\n",
    "print(f\"My name is {name} and my roll number is {roll_number}\")\n"
   ]
  },
  {
   "cell_type": "code",
   "execution_count": null,
   "metadata": {},
   "outputs": [],
   "source": [
    "# attendancelist=[501,\"Uzair\",502,\"Hassan\"]\n",
    "# roll_numberai = int(input(\"Enter your Roll Number\"))\n",
    "# if roll_numberai in attendancelist:\n",
    "#     print(f\"Your name is{attendancelist(rollnumberai)} )"
   ]
  },
  {
   "cell_type": "markdown",
   "metadata": {},
   "source": [
    "    # Tuple is immutable. Which means, it cannot be modified"
   ]
  },
  {
   "cell_type": "code",
   "execution_count": 36,
   "metadata": {},
   "outputs": [
    {
     "name": "stdout",
     "output_type": "stream",
     "text": [
      "(12, 235)\n",
      "<class 'tuple'>\n"
     ]
    }
   ],
   "source": [
    "a = 12,235 #this is known as packing of values, and will result in tuple form. \n",
    "print(a)\n",
    "print(type(a))"
   ]
  },
  {
   "cell_type": "code",
   "execution_count": 44,
   "metadata": {},
   "outputs": [
    {
     "name": "stdout",
     "output_type": "stream",
     "text": [
      "12\n",
      "235\n"
     ]
    }
   ],
   "source": [
    "b, c =a\n",
    "print(b)\n",
    "print (c)"
   ]
  },
  {
   "cell_type": "code",
   "execution_count": 42,
   "metadata": {},
   "outputs": [
    {
     "name": "stdout",
     "output_type": "stream",
     "text": [
      "('b', 'c', 'd', 'e', 'f')\n"
     ]
    }
   ],
   "source": [
    "tuple = (\"b\",\"c\",\"d\",\"e\",\"f\") #difference while creating a list and tuple is () and []\n",
    "print (tuple)"
   ]
  },
  {
   "cell_type": "code",
   "execution_count": 16,
   "metadata": {},
   "outputs": [
    {
     "name": "stdout",
     "output_type": "stream",
     "text": [
      "I belong to Los Angeles\n"
     ]
    }
   ],
   "source": [
    "cities = \"Atlanta\",\"Baltimore\",\"Chicago\",\"Denver\",\"Los Angeles\",55\n",
    "a, b, c, d, e, f = cities\n",
    "print (\"I belong to \" + e)"
   ]
  },
  {
   "cell_type": "code",
   "execution_count": 22,
   "metadata": {},
   "outputs": [
    {
     "name": "stdout",
     "output_type": "stream",
     "text": [
      "('abc', 'xyz', 12, 34.56)\n"
     ]
    }
   ],
   "source": [
    "tup1 = (12, 34.56)\n",
    "tup2 = (\"abc\",\"xyz\")\n",
    "tup3 = tup2 + tup1\n",
    "print (tup3)\n"
   ]
  },
  {
   "cell_type": "code",
   "execution_count": 23,
   "metadata": {},
   "outputs": [
    {
     "name": "stdout",
     "output_type": "stream",
     "text": [
      "apple\n",
      "banana\n",
      "cherry\n"
     ]
    }
   ],
   "source": [
    "thistuple = (\"apple\", \"banana\", \"cherry\")\n",
    "for x in thistuple:\n",
    "    print(x)"
   ]
  },
  {
   "cell_type": "code",
   "execution_count": 24,
   "metadata": {},
   "outputs": [
    {
     "name": "stdout",
     "output_type": "stream",
     "text": [
      "Yes, 'apple' is in the fruits tuple\n"
     ]
    }
   ],
   "source": [
    "thistuple = (\"apple\", \"banana\", \"cherry\")\n",
    "if \"apple\" in thistuple:\n",
    "    print(\"Yes, 'apple' is in the fruits tuple\")"
   ]
  },
  {
   "cell_type": "code",
   "execution_count": 25,
   "metadata": {},
   "outputs": [
    {
     "name": "stdout",
     "output_type": "stream",
     "text": [
      "No Strawberry in your tuple\n"
     ]
    }
   ],
   "source": [
    "thistuple = (\"apple\", \"banana\", \"cherry\")\n",
    "if \"strawberry\" in thistuple:\n",
    "    print(\"Yes, 'apple' is in the fruits tuple\")\n",
    "else:\n",
    "    print(\"No Strawberry in your tuple\")"
   ]
  },
  {
   "cell_type": "code",
   "execution_count": 27,
   "metadata": {},
   "outputs": [],
   "source": [
    "#Dictionary:\n",
    "\n",
    "a = {'key':'values'} #[list],(tuple),{dictionary}"
   ]
  },
  {
   "cell_type": "code",
   "execution_count": 40,
   "metadata": {},
   "outputs": [
    {
     "name": "stdout",
     "output_type": "stream",
     "text": [
      "Green\n",
      "5\n"
     ]
    }
   ],
   "source": [
    "alien_0 = {'color':'green', 'points':5}\n",
    "\n",
    "print (alien_0['color'].title())\n",
    "print (alien_0['points'])"
   ]
  },
  {
   "cell_type": "code",
   "execution_count": 42,
   "metadata": {},
   "outputs": [
    {
     "data": {
      "text/plain": [
       "int"
      ]
     },
     "execution_count": 42,
     "metadata": {},
     "output_type": "execute_result"
    }
   ],
   "source": [
    "type(alien_0['points'])"
   ]
  },
  {
   "cell_type": "code",
   "execution_count": 45,
   "metadata": {},
   "outputs": [
    {
     "name": "stdout",
     "output_type": "stream",
     "text": [
      "You just earned 5 points\n"
     ]
    }
   ],
   "source": [
    "print(f\"You just earned {alien_0['points']} points\")"
   ]
  },
  {
   "cell_type": "code",
   "execution_count": 59,
   "metadata": {},
   "outputs": [
    {
     "name": "stdout",
     "output_type": "stream",
     "text": [
      "gelatoaffairs\n"
     ]
    }
   ],
   "source": [
    "#procedure to insert values in dictionary\n",
    "foods = {}\n",
    "foods ['karahi']= 'favourite'\n",
    "foods ['bbq'] = 'prawns'\n",
    "foods ['shake'] = 'Chocolate Browni Shake'\n",
    "foods ['icecream'] = {'peshawari':'fav', \"chocolate\" : \"like\", \"icecreamparlour\":[\"kaybees\", \"baskinrobin\", \"gelatoaffairs\"]}\n",
    "\n",
    "# print (foods)\n",
    "print(foods['icecream'][\"icecreamparlour\"][2])"
   ]
  },
  {
   "cell_type": "code",
   "execution_count": 66,
   "metadata": {},
   "outputs": [
    {
     "name": "stdout",
     "output_type": "stream",
     "text": [
      "{'color': 'green', 'points': 15}\n"
     ]
    }
   ],
   "source": [
    "\n",
    "\n",
    "\n",
    "if alien_0[\"color\"] == 'red':\n",
    "    alien_0[\"points\"]=10\n",
    "    \n",
    "elif alien_0[\"color\"] == 'green':\n",
    "    alien_0[\"points\"] = 15\n",
    "    \n",
    "print(alien_0)"
   ]
  },
  {
   "cell_type": "markdown",
   "metadata": {},
   "source": [
    "# for loop in dictionary"
   ]
  },
  {
   "cell_type": "code",
   "execution_count": 3,
   "metadata": {},
   "outputs": [
    {
     "name": "stdout",
     "output_type": "stream",
     "text": [
      "a 10\n",
      "b 20\n",
      "c 30\n"
     ]
    }
   ],
   "source": [
    "dict1 = {'a':10, 'b':20, 'c':30}\n",
    "for key1, value1 in dict1.items():\n",
    "        print (key1,value1)"
   ]
  },
  {
   "cell_type": "code",
   "execution_count": 4,
   "metadata": {},
   "outputs": [
    {
     "name": "stdout",
     "output_type": "stream",
     "text": [
      "a\n",
      "b\n",
      "c\n"
     ]
    }
   ],
   "source": [
    "for key3 in dict1.keys():\n",
    "    print (key3)"
   ]
  },
  {
   "cell_type": "code",
   "execution_count": 5,
   "metadata": {},
   "outputs": [
    {
     "name": "stdout",
     "output_type": "stream",
     "text": [
      "10\n",
      "20\n",
      "30\n"
     ]
    }
   ],
   "source": [
    "for value2 in dict1.values():\n",
    "    print (value2)"
   ]
  },
  {
   "cell_type": "code",
   "execution_count": 24,
   "metadata": {},
   "outputs": [
    {
     "name": "stdout",
     "output_type": "stream",
     "text": [
      "Hello, My name is M. Hassan\n",
      "son of M. Yahya\n",
      "my age is 28\n",
      "and i live in Karachi\n"
     ]
    }
   ],
   "source": [
    "personalinfo = {\"first_name\": \"M. Hassan\", \"last_name\": \"M. Yahya\", \"age\": 28, \"city\": \"Karachi\"}\n",
    "\n",
    "print(\"Hello, My name is \" + personalinfo[\"first_name\"].title())\n",
    "print(\"son of \" + personalinfo[\"last_name\"].title())\n",
    "print(\"my age is \" + str(personalinfo[\"age\"]))\n",
    "print(\"and i live in \" + personalinfo[\"city\"].title())"
   ]
  },
  {
   "cell_type": "code",
   "execution_count": 39,
   "metadata": {},
   "outputs": [
    {
     "name": "stdout",
     "output_type": "stream",
     "text": [
      "Hello, My name is M. Hassan\n",
      "son of M. Yahya\n",
      "my age is 28\n",
      "and i live in Karachi\n"
     ]
    }
   ],
   "source": [
    "personalinfo = {\"first_name\": \"M. Hassan\", \"last_name\": \"M. Yahya\", \"age\": 28, \"city\": \"Karachi\"}\n",
    "\n",
    "print(f\"Hello, My name is {personalinfo['first_name']}\")\n",
    "print(f\"son of {personalinfo['last_name'].title()}\")\n",
    "print(f\"my age is {personalinfo['age']}\")\n",
    "print(f\"and i live in {personalinfo['city'].title()}\")"
   ]
  },
  {
   "cell_type": "code",
   "execution_count": 57,
   "metadata": {},
   "outputs": [
    {
     "name": "stdout",
     "output_type": "stream",
     "text": [
      "Hello, My name is M. Hassan\n",
      "son of M. Yahya\n",
      "my age is 28\n",
      "and i live in Karachi\n"
     ]
    }
   ],
   "source": [
    "personalinfo = {\"first_name\": \"M. Hassan\", \"last_name\": \"M. Yahya\", \"age\": 28, \"city\": \"Karachi\"}\n",
    "print(\"Hello, My name is {}\".format(personalinfo[\"first_name\"]))\n",
    "print(f\"son of {personalinfo['last_name'].title()}\")\n",
    "print(f\"my age is {personalinfo['age']}\")\n",
    "print(f\"and i live in {personalinfo['city'].title()}\")"
   ]
  },
  {
   "cell_type": "code",
   "execution_count": 64,
   "metadata": {},
   "outputs": [
    {
     "name": "stdout",
     "output_type": "stream",
     "text": [
      "NAJEEB, have a good day\n",
      "OWAIS, have a good day\n",
      "ZAFAR, have a good day\n",
      "ZAFAR, have a good day\n",
      "ZIA, have a good day\n",
      "{'Shehrayar': 'Zafar', 'Saif': 'Zafar', 'Zohaib': 'Owais', 'Umer': 'Najeeb', 'Naveed': 'Zia'}\n"
     ]
    }
   ],
   "source": [
    "name1 = {\"Shehrayar\":\"Zafar\", \"Saif\":\"Zafar\",\"Zohaib\":\"Owais\", \"Umer\":\"Najeeb\", \"Naveed\":\"Zia\"}\n",
    "\n",
    "for new_names in sorted(name1.values()):\n",
    "    print (new_names.upper() + ', have a good day')\n",
    "\n",
    "print (sorted(name1)\n"
   ]
  },
  {
   "cell_type": "code",
   "execution_count": 79,
   "metadata": {},
   "outputs": [
    {
     "name": "stdout",
     "output_type": "stream",
     "text": [
      "89\n",
      "43\n",
      "56\n",
      "976\n",
      "7\n",
      "5\n",
      "4\n",
      "1\n",
      "[1, 4, 5, 7, 976, 56, 43, 89]\n"
     ]
    }
   ],
   "source": [
    "listing = [1,4,5,7,976,56,43,89]\n",
    "\n",
    "for oem in reversed(listing):\n",
    "    print (oem)\n",
    "print (listing)    \n"
   ]
  },
  {
   "cell_type": "code",
   "execution_count": 80,
   "metadata": {},
   "outputs": [
    {
     "name": "stdout",
     "output_type": "stream",
     "text": [
      "[89, 43, 56, 976, 7, 5, 4, 1]\n"
     ]
    }
   ],
   "source": [
    "reverse_list=list(reversed(listing))\n",
    "print(reverse_list)"
   ]
  },
  {
   "cell_type": "code",
   "execution_count": 92,
   "metadata": {},
   "outputs": [
    {
     "name": "stdout",
     "output_type": "stream",
     "text": [
      "keys: color\n",
      "values: green\n",
      "keys: points\n",
      "values: 5\n",
      "keys: color\n",
      "values: yellow\n",
      "keys: points\n",
      "values: 10\n",
      "keys: color\n",
      "values: red\n",
      "keys: points\n",
      "values: 15\n"
     ]
    }
   ],
   "source": [
    "alien_0 = {'color': 'green', 'points': 5}\n",
    "alien_1 = {'color': 'yellow', 'points': 10}\n",
    "alien_2 = {'color': 'red', 'points': 15}\n",
    "\n",
    "aliens = [alien_0, alien_1, alien_2]\n",
    "\n",
    "for alien in aliens:\n",
    "    for keys , value in alien.items():\n",
    "        print(\"keys: \" + keys)\n",
    "        print(\"values: \" + str(value))"
   ]
  },
  {
   "cell_type": "code",
   "execution_count": 95,
   "metadata": {},
   "outputs": [
    {
     "name": "stdout",
     "output_type": "stream",
     "text": [
      "2 * 1 = 2\n",
      "2 * 2 = 4\n",
      "2 * 3 = 6\n",
      "2 * 4 = 8\n",
      "2 * 5 = 10\n",
      "2 * 6 = 12\n",
      "2 * 7 = 14\n",
      "2 * 8 = 16\n",
      "2 * 9 = 18\n",
      "2 * 10 = 20\n",
      "3 * 1 = 3\n",
      "3 * 2 = 6\n",
      "3 * 3 = 9\n",
      "3 * 4 = 12\n",
      "3 * 5 = 15\n",
      "3 * 6 = 18\n",
      "3 * 7 = 21\n",
      "3 * 8 = 24\n",
      "3 * 9 = 27\n",
      "3 * 10 = 30\n",
      "4 * 1 = 4\n",
      "4 * 2 = 8\n",
      "4 * 3 = 12\n",
      "4 * 4 = 16\n",
      "4 * 5 = 20\n",
      "4 * 6 = 24\n",
      "4 * 7 = 28\n",
      "4 * 8 = 32\n",
      "4 * 9 = 36\n",
      "4 * 10 = 40\n",
      "5 * 1 = 5\n",
      "5 * 2 = 10\n",
      "5 * 3 = 15\n",
      "5 * 4 = 20\n",
      "5 * 5 = 25\n",
      "5 * 6 = 30\n",
      "5 * 7 = 35\n",
      "5 * 8 = 40\n",
      "5 * 9 = 45\n",
      "5 * 10 = 50\n"
     ]
    }
   ],
   "source": [
    "numbers = [1,2,3,4,5,6,7,8,9,10]\n",
    "for table in [2,3,4,5]:\n",
    "    for num in numbers:\n",
    "        print(f\"{table} * {num} = {table*num}\")"
   ]
  },
  {
   "cell_type": "code",
   "execution_count": null,
   "metadata": {},
   "outputs": [],
   "source": []
  }
 ],
 "metadata": {
  "kernelspec": {
   "display_name": "Python 3",
   "language": "python",
   "name": "python3"
  },
  "language_info": {
   "codemirror_mode": {
    "name": "ipython",
    "version": 3
   },
   "file_extension": ".py",
   "mimetype": "text/x-python",
   "name": "python",
   "nbconvert_exporter": "python",
   "pygments_lexer": "ipython3",
   "version": "3.7.1"
  }
 },
 "nbformat": 4,
 "nbformat_minor": 2
}
