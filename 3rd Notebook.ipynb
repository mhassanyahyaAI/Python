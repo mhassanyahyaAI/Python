{
 "cells": [
  {
   "cell_type": "code",
   "execution_count": null,
   "metadata": {},
   "outputs": [],
   "source": [
    "a = 0\n",
    "while a < 10:\n",
    "    print(str(a)+\" hello\")\n",
    "    a+=1"
   ]
  },
  {
   "cell_type": "code",
   "execution_count": null,
   "metadata": {},
   "outputs": [],
   "source": [
    "for a in range (0,10):\n",
    "    print(a,\"Hello\")"
   ]
  },
  {
   "cell_type": "code",
   "execution_count": null,
   "metadata": {},
   "outputs": [],
   "source": [
    "b = 0\n",
    "while b < 100:\n",
    "    b+=2\n",
    "    print(b, \"Iam an even number\")"
   ]
  },
  {
   "cell_type": "code",
   "execution_count": null,
   "metadata": {},
   "outputs": [],
   "source": [
    "c = 100\n",
    "while c >= 0:\n",
    "    b = c%2\n",
    "    if b == 0:\n",
    "        print(c, \"Iam an even number\")\n",
    "    else:\n",
    "        print(c, \"Iam an odd number\")\n",
    "    c-=1"
   ]
  },
  {
   "cell_type": "code",
   "execution_count": null,
   "metadata": {},
   "outputs": [],
   "source": [
    "condition = True\n",
    "while condition:\n",
    "    num = input (\"Enter Number: \")\n",
    "    if num == \"q\":\n",
    "        print (\"You are out now\")\n",
    "        condition = False\n",
    "    else:\n",
    "        print (\"The square of the number is \", int (num)**2)"
   ]
  },
  {
   "cell_type": "code",
   "execution_count": 6,
   "metadata": {},
   "outputs": [
    {
     "name": "stdout",
     "output_type": "stream",
     "text": [
      "Enter the First Number: 54\n",
      "Enter the Second Number: 5\n",
      "Press 1 for addition\n",
      "Press 2 for Subtraction\n",
      "Press 3 for division\n",
      "Press 4 for multiplication\n",
      "Press 5 to Exit\n",
      "Key in the desired operation: 5\n"
     ]
    }
   ],
   "source": [
    "#ask for two numbers, ask for operation.\n",
    "\n",
    "quit = 1\n",
    "num1 = int(input(\"Enter the First Number: \"))\n",
    "num2 = int(input(\"Enter the Second Number: \"))\n",
    "\n",
    "while quit:\n",
    "    print (\"Press 1 for addition\" +\"\\nPress 2 for Subtraction\" + \"\\nPress 3 for division\"+ \"\\nPress 4 for multiplication\"+ \"\\nPress 5 to Exit\")\n",
    "    operator = int(input(\"Key in the desired operation: \"))\n",
    "    if operator < 1 or operator > 5:\n",
    "        print(\"\\nEnter the right choice\")\n",
    "    else:\n",
    "        if operator == 1:\n",
    "            num3=num1+num2\n",
    "            print(num3)\n",
    "        elif operator == 2:\n",
    "            num3=num1-num2\n",
    "            print(num3)\n",
    "        elif operator == 3:\n",
    "            num3=num1/num2\n",
    "            print(num3)\n",
    "        elif operator == 4:\n",
    "            num3=num1*num2\n",
    "            print(num3)\n",
    "        elif operator == 5:\n",
    "            quit = 0"
   ]
  },
  {
   "cell_type": "code",
   "execution_count": 1,
   "metadata": {},
   "outputs": [
    {
     "name": "stdout",
     "output_type": "stream",
     "text": [
      "Which pizza flavor would you like to order?\n",
      "Else, press QTikka\n",
      "Choose the size of the pizza\n",
      "If you want to exit, press Q14\n",
      "Choose the topping you would like to add on\n",
      "If you want to exit, press QOnion\n",
      "Choose the topping you would like to add on\n",
      "If you want to exit, press QMushroom\n",
      "Choose the topping you would like to add on\n",
      "If you want to exit, press QQuite\n",
      "Choose the topping you would like to add on\n",
      "If you want to exit, press QQ\n",
      "\n",
      "Your pizza flavor is TIKKA\n",
      "Size of your pizza is 14\n",
      "Add on Topping is \n",
      "ONION\n",
      "MUSHROOM\n",
      "QUITE\n",
      "Would you like to order one more pizza? Or press Q to exitYes\n",
      "Choose the topping you would like to add on\n",
      "If you want to exit, press Qq\n",
      "\n",
      "Your pizza flavor is TIKKA\n",
      "Size of your pizza is 14\n",
      "Add on Topping is \n",
      "ONION\n",
      "MUSHROOM\n",
      "QUITE\n",
      "Would you like to order one more pizza? Or press Q to exitq\n",
      "Which pizza flavor would you like to order?\n",
      "Else, press Qq\n"
     ]
    }
   ],
   "source": [
    "#pizza flavor, quit to terminate, the size, topping\n",
    "quit = True\n",
    "quit1 = True\n",
    "pizza_flavor = ''\n",
    "pizza_size = ''\n",
    "pizza_topping = ''\n",
    "while quit1:\n",
    "    pizza_flavor= input(\"Which pizza flavor would you like to order?\" + \"\\nElse, press Q\").upper()\n",
    "    if pizza_flavor != \"Q\":    \n",
    "        pizza_size= input(\"Choose the size of the pizza\" + \"\\nIf you want to exit, press Q\").upper()\n",
    "        if pizza_size != \"Q\":\n",
    "            topping = []\n",
    "            while quit:\n",
    "                pizza_topping = input(\"Choose the topping you would like to add on\" + \"\\nIf you want to exit, press Q\").upper()\n",
    "                if pizza_topping == \"Q\":\n",
    "                    print(\"\\nYour pizza flavor is \"+pizza_flavor)\n",
    "                    print(\"Size of your pizza is \"+pizza_size)\n",
    "                    print(\"Add on Topping is \")\n",
    "                    for pizza_topping in topping [:]:\n",
    "                        print(pizza_topping)\n",
    "                    otherpizza = input(\"Would you like to order one more pizza? \"+ \"Or press Q to exit\").upper()\n",
    "                    if otherpizza != \"Q\":\n",
    "                        continue\n",
    "                    else:\n",
    "                        break\n",
    "                else:\n",
    "                    topping.append(pizza_topping)\n",
    "            else:\n",
    "                break\n",
    "    else:\n",
    "        break\n",
    "    \n",
    "\n",
    "\n",
    "            \n"
   ]
  },
  {
   "cell_type": "code",
   "execution_count": null,
   "metadata": {},
   "outputs": [],
   "source": []
  }
 ],
 "metadata": {
  "kernelspec": {
   "display_name": "Python 3",
   "language": "python",
   "name": "python3"
  },
  "language_info": {
   "codemirror_mode": {
    "name": "ipython",
    "version": 3
   },
   "file_extension": ".py",
   "mimetype": "text/x-python",
   "name": "python",
   "nbconvert_exporter": "python",
   "pygments_lexer": "ipython3",
   "version": "3.7.1"
  }
 },
 "nbformat": 4,
 "nbformat_minor": 2
}
