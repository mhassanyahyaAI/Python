{
 "cells": [
  {
   "cell_type": "code",
   "execution_count": null,
   "metadata": {},
   "outputs": [],
   "source": [
    "a = 0\n",
    "while a < 10:\n",
    "    print(str(a)+\" hello\")\n",
    "    a+=1"
   ]
  },
  {
   "cell_type": "code",
   "execution_count": null,
   "metadata": {},
   "outputs": [],
   "source": [
    "for a in range (0,10):\n",
    "    print(a,\"Hello\")"
   ]
  },
  {
   "cell_type": "code",
   "execution_count": null,
   "metadata": {},
   "outputs": [],
   "source": [
    "b = 0\n",
    "while b < 100:\n",
    "    b+=2\n",
    "    print(b, \"Iam an even number\")"
   ]
  },
  {
   "cell_type": "code",
   "execution_count": null,
   "metadata": {},
   "outputs": [],
   "source": [
    "c = 100\n",
    "while c >= 0:\n",
    "    b = c%2\n",
    "    if b == 0:\n",
    "        print(c, \"Iam an even number\")\n",
    "    else:\n",
    "        print(c, \"Iam an odd number\")\n",
    "    c-=1"
   ]
  },
  {
   "cell_type": "code",
   "execution_count": null,
   "metadata": {},
   "outputs": [],
   "source": [
    "condition = True\n",
    "while condition:\n",
    "    num = input (\"Enter Number: \")\n",
    "    if num == \"q\":\n",
    "        print (\"You are out now\")\n",
    "        condition = False\n",
    "    else:\n",
    "        print (\"The square of the number is \", int (num)**2)"
   ]
  },
  {
   "cell_type": "code",
   "execution_count": 6,
   "metadata": {},
   "outputs": [
    {
     "name": "stdout",
     "output_type": "stream",
     "text": [
      "Enter the First Number: 54\n",
      "Enter the Second Number: 5\n",
      "Press 1 for addition\n",
      "Press 2 for Subtraction\n",
      "Press 3 for division\n",
      "Press 4 for multiplication\n",
      "Press 5 to Exit\n",
      "Key in the desired operation: 5\n"
     ]
    }
   ],
   "source": [
    "#ask for two numbers, ask for operation.\n",
    "\n",
    "quit = 1\n",
    "num1 = int(input(\"Enter the First Number: \"))\n",
    "num2 = int(input(\"Enter the Second Number: \"))\n",
    "\n",
    "while quit:\n",
    "    print (\"Press 1 for addition\" +\"\\nPress 2 for Subtraction\" + \"\\nPress 3 for division\"+ \"\\nPress 4 for multiplication\"+ \"\\nPress 5 to Exit\")\n",
    "    operator = int(input(\"Key in the desired operation: \"))\n",
    "    if operator < 1 or operator > 5:\n",
    "        print(\"\\nEnter the right choice\")\n",
    "    else:\n",
    "        if operator == 1:\n",
    "            num3=num1+num2\n",
    "            print(num3)\n",
    "        elif operator == 2:\n",
    "            num3=num1-num2\n",
    "            print(num3)\n",
    "        elif operator == 3:\n",
    "            num3=num1/num2\n",
    "            print(num3)\n",
    "        elif operator == 4:\n",
    "            num3=num1*num2\n",
    "            print(num3)\n",
    "        elif operator == 5:\n",
    "            quit = 0"
   ]
  },
  {
   "cell_type": "code",
   "execution_count": null,
   "metadata": {},
   "outputs": [],
   "source": []
  }
 ],
 "metadata": {
  "kernelspec": {
   "display_name": "Python 3",
   "language": "python",
   "name": "python3"
  },
  "language_info": {
   "codemirror_mode": {
    "name": "ipython",
    "version": 3
   },
   "file_extension": ".py",
   "mimetype": "text/x-python",
   "name": "python",
   "nbconvert_exporter": "python",
   "pygments_lexer": "ipython3",
   "version": "3.7.1"
  }
 },
 "nbformat": 4,
 "nbformat_minor": 2
}
