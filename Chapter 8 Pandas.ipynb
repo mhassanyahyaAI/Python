{
 "cells": [
  {
   "cell_type": "code",
   "execution_count": 2,
   "metadata": {},
   "outputs": [],
   "source": [
    "import numpy as np\n",
    "import pandas as pd"
   ]
  },
  {
   "cell_type": "code",
   "execution_count": 4,
   "metadata": {},
   "outputs": [
    {
     "data": {
      "text/plain": [
       "[NaN, (15.0, 25.0], (15.0, 25.0], (15.0, 25.0], (25.0, 35.0], (25.0, 35.0], (15.0, 25.0], (45.0, 55.0], (35.0, 45.0], (55.0, 70.0]]\n",
       "Categories (5, interval[int64]): [(15, 25] < (25, 35] < (35, 45] < (45, 55] < (55, 70]]"
      ]
     },
     "execution_count": 4,
     "metadata": {},
     "output_type": "execute_result"
    }
   ],
   "source": [
    "age = [15,20,22,25,26,27,21,55,41,67]\n",
    "bins = [15,25,35,45,55,70]\n",
    "c = pd.cut(age, bins)\n",
    "c"
   ]
  },
  {
   "cell_type": "code",
   "execution_count": 5,
   "metadata": {},
   "outputs": [],
   "source": [
    "marks = [65,75,65,80,91,53]\n",
    "grade = [0,60,70,80,90,100]\n",
    "cats = pd.cut(marks,grade)"
   ]
  },
  {
   "cell_type": "code",
   "execution_count": 6,
   "metadata": {},
   "outputs": [
    {
     "data": {
      "text/plain": [
       "[(60, 70], (70, 80], (60, 70], (70, 80], (90, 100], (0, 60]]\n",
       "Categories (5, interval[int64]): [(0, 60] < (60, 70] < (70, 80] < (80, 90] < (90, 100]]"
      ]
     },
     "execution_count": 6,
     "metadata": {},
     "output_type": "execute_result"
    }
   ],
   "source": [
    "cats"
   ]
  },
  {
   "cell_type": "code",
   "execution_count": 7,
   "metadata": {},
   "outputs": [
    {
     "data": {
      "text/plain": [
       "[(60, 70], (70, 80], (60, 70], (70, 80], (90, 100], (0, 60]]\n",
       "Categories (5, interval[int64]): [(0, 60] < (60, 70] < (70, 80] < (80, 90] < (90, 100]]"
      ]
     },
     "execution_count": 7,
     "metadata": {},
     "output_type": "execute_result"
    }
   ],
   "source": [
    "marks = [65,75,65,80,91,53]\n",
    "grade = [0,60,70,80,90,100]\n",
    "bins = pd.cut(marks, grade)\n",
    "bins\n"
   ]
  },
  {
   "cell_type": "code",
   "execution_count": 11,
   "metadata": {},
   "outputs": [],
   "source": [
    "lst = np.array(['F','C','B','A','A+'])"
   ]
  },
  {
   "cell_type": "code",
   "execution_count": 14,
   "metadata": {},
   "outputs": [
    {
     "data": {
      "text/plain": [
       "array(['C', 'B', 'C', 'B', 'A+', 'F'], dtype='<U2')"
      ]
     },
     "execution_count": 14,
     "metadata": {},
     "output_type": "execute_result"
    }
   ],
   "source": [
    "lst[(bins.codes)]"
   ]
  },
  {
   "cell_type": "code",
   "execution_count": 17,
   "metadata": {},
   "outputs": [
    {
     "data": {
      "text/plain": [
       "array(['Low', 'Grade2 Hypertension', 'Normal', 'Normal', 'Normal',\n",
       "       'Normal', 'Grade1 Hypertension', 'Grade1 Hypertension',\n",
       "       'Grade1 Hypertension', 'Grade2 Hypertension'], dtype='<U19')"
      ]
     },
     "execution_count": 17,
     "metadata": {},
     "output_type": "execute_result"
    }
   ],
   "source": [
    "data = [50,120,70,80,65,75,95,99,100,102]\n",
    "rangebp= [0,60,80,90,100,120]\n",
    "c=pd.cut(data,rangebp)\n",
    "\n",
    "lstbp = np.array(['Low','Normal','Pre-Hypertension','Grade1 Hypertension','Grade2 Hypertension'])\n",
    "lstbp[(c.codes)]"
   ]
  },
  {
   "cell_type": "code",
   "execution_count": null,
   "metadata": {},
   "outputs": [],
   "source": []
  }
 ],
 "metadata": {
  "kernelspec": {
   "display_name": "Python 3",
   "language": "python",
   "name": "python3"
  },
  "language_info": {
   "codemirror_mode": {
    "name": "ipython",
    "version": 3
   },
   "file_extension": ".py",
   "mimetype": "text/x-python",
   "name": "python",
   "nbconvert_exporter": "python",
   "pygments_lexer": "ipython3",
   "version": "3.7.3"
  }
 },
 "nbformat": 4,
 "nbformat_minor": 2
}
