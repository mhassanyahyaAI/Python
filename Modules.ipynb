{
 "cells": [
  {
   "cell_type": "code",
   "execution_count": 1,
   "metadata": {},
   "outputs": [],
   "source": [
    "#what is modules?"
   ]
  },
  {
   "cell_type": "code",
   "execution_count": 2,
   "metadata": {},
   "outputs": [],
   "source": [
    "# Module is operated through .pi file only"
   ]
  },
  {
   "cell_type": "code",
   "execution_count": 14,
   "metadata": {},
   "outputs": [],
   "source": [
    "import mathtest"
   ]
  },
  {
   "cell_type": "code",
   "execution_count": 17,
   "metadata": {},
   "outputs": [
    {
     "data": {
      "text/plain": [
       "5"
      ]
     },
     "execution_count": 17,
     "metadata": {},
     "output_type": "execute_result"
    }
   ],
   "source": [
    "mathtest.add(2,3)"
   ]
  },
  {
   "cell_type": "code",
   "execution_count": 1,
   "metadata": {},
   "outputs": [],
   "source": [
    "from mathtest import Car, ElectricCar\n",
    "\n"
   ]
  },
  {
   "cell_type": "code",
   "execution_count": 4,
   "metadata": {},
   "outputs": [
    {
     "data": {
      "text/plain": [
       "'2016 Toyota Corolla'"
      ]
     },
     "execution_count": 4,
     "metadata": {},
     "output_type": "execute_result"
    }
   ],
   "source": [
    "Car(\"Toyota\",\"Corolla\",2016).get_descriptive_name()"
   ]
  },
  {
   "cell_type": "code",
   "execution_count": 5,
   "metadata": {},
   "outputs": [
    {
     "data": {
      "text/plain": [
       "'Electric Car2016 Toyota Prius'"
      ]
     },
     "execution_count": 5,
     "metadata": {},
     "output_type": "execute_result"
    }
   ],
   "source": [
    "ElectricCar(\"Toyota\",\"Prius\",2016).get_descriptive_name()"
   ]
  },
  {
   "cell_type": "code",
   "execution_count": 8,
   "metadata": {},
   "outputs": [],
   "source": [
    "#to write in a file\n",
    "\n",
    "with open(\"whatever.txt\",\"w\") as file: #with open is the keyword to execute the file\n",
    "     file.write(\"Test the write and read command\")\n",
    "#whatever.txt is the file name,\"w\" allows to write in the existing file, and also creates a new file if there is no file already\n",
    "#file is just an object name\n",
    "            "
   ]
  },
  {
   "cell_type": "code",
   "execution_count": 9,
   "metadata": {},
   "outputs": [
    {
     "name": "stdout",
     "output_type": "stream",
     "text": [
      "Test the write and read command\n"
     ]
    }
   ],
   "source": [
    "#to read in a file\n",
    "with open (\"whatever.txt\",\"r\") as f:\n",
    "    print(f.read())"
   ]
  },
  {
   "cell_type": "code",
   "execution_count": 10,
   "metadata": {},
   "outputs": [],
   "source": [
    "with open (\"whatever.txt\",\"a\") as f:\n",
    "    f.write(\"\\n2nd line write test\")"
   ]
  },
  {
   "cell_type": "code",
   "execution_count": 11,
   "metadata": {},
   "outputs": [
    {
     "name": "stdout",
     "output_type": "stream",
     "text": [
      "Test the write and read command\n",
      "2nd line write test\n"
     ]
    }
   ],
   "source": [
    "with open (\"whatever.txt\",\"r\") as f:\n",
    "    print(f.read())"
   ]
  },
  {
   "cell_type": "code",
   "execution_count": 40,
   "metadata": {},
   "outputs": [],
   "source": [
    "with open (\"text.txt\",\"w\") as x:\n",
    "    x.write(\"Experimenting reading and writing both\")"
   ]
  },
  {
   "cell_type": "code",
   "execution_count": 41,
   "metadata": {},
   "outputs": [
    {
     "name": "stdout",
     "output_type": "stream",
     "text": [
      "Experimenting reading and writing both\n"
     ]
    }
   ],
   "source": [
    "with open (\"text.txt\",\"r+\") as x:\n",
    "    print(x.read())"
   ]
  },
  {
   "cell_type": "code",
   "execution_count": 42,
   "metadata": {
    "scrolled": true
   },
   "outputs": [
    {
     "name": "stdout",
     "output_type": "stream",
     "text": [
      "Experimenting reading and writing both\n",
      "Experimenting reading and writing both\n",
      "Experiment gone wrong?\n"
     ]
    }
   ],
   "source": [
    "with open (\"text.txt\",\"r+\") as x:\n",
    "    print(x.read())\n",
    "    x.write(\"\\nExperiment gone wrong?\")\n",
    "    x.seek(0)\n",
    "    print(x.read())"
   ]
  },
  {
   "cell_type": "code",
   "execution_count": 4,
   "metadata": {},
   "outputs": [
    {
     "name": "stdout",
     "output_type": "stream",
     "text": [
      "3.1415926535\n",
      "\n",
      "8979323846\n",
      "\n",
      "2643383279\n",
      "\n",
      "\n",
      "\n",
      "\n",
      "Hassan\n",
      "\n",
      "Yahya\n",
      "\n",
      "sadkjhsadjkhsad\n"
     ]
    }
   ],
   "source": [
    "with open ('pi_digits.txt') as file_object:\n",
    "    contents = file_object.read()\n",
    "    print(contents)"
   ]
  },
  {
   "cell_type": "code",
   "execution_count": 9,
   "metadata": {},
   "outputs": [
    {
     "name": "stdout",
     "output_type": "stream",
     "text": [
      "3.1415926535\n",
      "\n",
      "\n",
      "\n",
      "8979323846\n",
      "\n",
      "\n",
      "\n",
      "2643383279\n",
      "\n",
      "\n",
      "\n",
      "\n",
      "\n",
      "\n",
      "\n",
      "\n",
      "\n",
      "Hassan\n",
      "\n",
      "\n",
      "\n",
      "Yahya\n",
      "\n",
      "\n",
      "\n",
      "sadkjhsadjkhsad\n"
     ]
    }
   ],
   "source": [
    "filename = 'pi_digits.txt'\n",
    "with open (filename) as file_object:\n",
    "    for line in file_object:\n",
    "        print(line)\n"
   ]
  },
  {
   "cell_type": "code",
   "execution_count": 11,
   "metadata": {},
   "outputs": [
    {
     "name": "stdout",
     "output_type": "stream",
     "text": [
      "3.141592653589793238462643383279HassanYahyasadkjhsadjkhsad\n",
      "58\n"
     ]
    }
   ],
   "source": [
    "filename = 'pi_digits.txt'\n",
    "with open (filename) as file_object:\n",
    "    lines=file_object.readlines()\n",
    "    pi_string = ''\n",
    "for line in lines:\n",
    "    pi_string += line.strip()\n",
    "print(pi_string)\n",
    "print(len(pi_string))"
   ]
  },
  {
   "cell_type": "code",
   "execution_count": null,
   "metadata": {},
   "outputs": [],
   "source": []
  }
 ],
 "metadata": {
  "kernelspec": {
   "display_name": "Python 3",
   "language": "python",
   "name": "python3"
  },
  "language_info": {
   "codemirror_mode": {
    "name": "ipython",
    "version": 3
   },
   "file_extension": ".py",
   "mimetype": "text/x-python",
   "name": "python",
   "nbconvert_exporter": "python",
   "pygments_lexer": "ipython3",
   "version": "3.7.3"
  }
 },
 "nbformat": 4,
 "nbformat_minor": 2
}
