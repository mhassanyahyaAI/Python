{
 "cells": [
  {
   "cell_type": "code",
   "execution_count": 2,
   "metadata": {},
   "outputs": [],
   "source": [
    "def full_name():\n",
    "    print(\"Muhammad Hassan Yahya\")\n",
    "    "
   ]
  },
  {
   "cell_type": "code",
   "execution_count": 3,
   "metadata": {},
   "outputs": [
    {
     "name": "stdout",
     "output_type": "stream",
     "text": [
      "Muhammad Hassan Yahya\n"
     ]
    }
   ],
   "source": [
    "full_name()"
   ]
  },
  {
   "cell_type": "code",
   "execution_count": 4,
   "metadata": {},
   "outputs": [],
   "source": [
    "def full_name():\n",
    "    print(\"Muhammad Hassan Yahya\")\n",
    "    print(\"Hamza Khan\")"
   ]
  },
  {
   "cell_type": "code",
   "execution_count": 5,
   "metadata": {},
   "outputs": [
    {
     "name": "stdout",
     "output_type": "stream",
     "text": [
      "Muhammad Hassan Yahya\n",
      "Hamza Khan\n"
     ]
    }
   ],
   "source": [
    "full_name()"
   ]
  },
  {
   "cell_type": "code",
   "execution_count": 7,
   "metadata": {},
   "outputs": [],
   "source": [
    "def student (s):\n",
    "    print (s)"
   ]
  },
  {
   "cell_type": "code",
   "execution_count": 8,
   "metadata": {},
   "outputs": [
    {
     "name": "stdout",
     "output_type": "stream",
     "text": [
      "Hassan\n"
     ]
    }
   ],
   "source": [
    "student (\"Hassan\")"
   ]
  },
  {
   "cell_type": "code",
   "execution_count": 9,
   "metadata": {},
   "outputs": [
    {
     "name": "stdout",
     "output_type": "stream",
     "text": [
      "Uzair\n"
     ]
    }
   ],
   "source": [
    "student (\"Uzair\")"
   ]
  },
  {
   "cell_type": "code",
   "execution_count": 13,
   "metadata": {},
   "outputs": [],
   "source": [
    "def calculator(number1, number2, operator):\n",
    "    print(number1, operator, number2)\n",
    "    if operator == \"+\":\n",
    "        print(number1+number2)\n",
    "    elif operator == \"-\":\n",
    "        print(number1 - number2)\n",
    "    elif operator == \"x\":\n",
    "        print(number1*number2)\n",
    "    elif operator == \"/\":\n",
    "        print(number1/number2)\n",
    "    else:\n",
    "        print(\"You have given the wrong input in operator\")\n",
    "    "
   ]
  },
  {
   "cell_type": "code",
   "execution_count": 17,
   "metadata": {},
   "outputs": [
    {
     "name": "stdout",
     "output_type": "stream",
     "text": [
      "20 / 25\n",
      "0.8\n"
     ]
    }
   ],
   "source": [
    "calculator(20,25,\"/\")"
   ]
  },
  {
   "cell_type": "code",
   "execution_count": 20,
   "metadata": {},
   "outputs": [],
   "source": [
    "def calculator2(number1, number2, operator): #positional argument\n",
    "    print(number1, operator, number2)\n",
    "    if operator == \"+\":\n",
    "        return(number1+number2)\n",
    "    elif operator == \"-\":\n",
    "        return(number1 - number2)\n",
    "    elif operator == \"x\":\n",
    "        return(number1*number2)\n",
    "    elif operator == \"/\":\n",
    "        return(number1/number2)\n",
    "    else:\n",
    "        print(\"You have given the wrong input in operator\")"
   ]
  },
  {
   "cell_type": "code",
   "execution_count": 23,
   "metadata": {},
   "outputs": [
    {
     "name": "stdout",
     "output_type": "stream",
     "text": [
      "20 + 20\n",
      "40\n"
     ]
    }
   ],
   "source": [
    "calculation1 = calculator2(20,20,\"+\")\n",
    "print (calculation1)"
   ]
  },
  {
   "cell_type": "code",
   "execution_count": 30,
   "metadata": {},
   "outputs": [],
   "source": [
    "def family (son_name, father_name):\n",
    "    print (f\"Son name is {son_name} \\nFather name is {father_name}\")"
   ]
  },
  {
   "cell_type": "code",
   "execution_count": 31,
   "metadata": {},
   "outputs": [
    {
     "name": "stdout",
     "output_type": "stream",
     "text": [
      "Son name is Hassan \n",
      "Father name is Yahya\n"
     ]
    }
   ],
   "source": [
    "family(father_name= \"Yahya\", son_name = \"Hassan\") #keyword argument"
   ]
  },
  {
   "cell_type": "code",
   "execution_count": 32,
   "metadata": {},
   "outputs": [],
   "source": [
    "def list_function (friendsname):\n",
    "    for name in friendsname:\n",
    "        print (name)"
   ]
  },
  {
   "cell_type": "code",
   "execution_count": 35,
   "metadata": {},
   "outputs": [
    {
     "name": "stdout",
     "output_type": "stream",
     "text": [
      "Ikram\n",
      "Imran\n",
      "Moosa\n"
     ]
    }
   ],
   "source": [
    "list_function([\"Ikram\",\"Imran\",\"Moosa\"])"
   ]
  },
  {
   "cell_type": "code",
   "execution_count": 36,
   "metadata": {},
   "outputs": [],
   "source": [
    "def my_full_name(f_name,m_name,l_name):\n",
    "    full_name = f_name + m_name + l_name\n",
    "    print(full_name)"
   ]
  },
  {
   "cell_type": "code",
   "execution_count": 38,
   "metadata": {},
   "outputs": [
    {
     "name": "stdout",
     "output_type": "stream",
     "text": [
      "Muhammad Hassan Yahya\n"
     ]
    }
   ],
   "source": [
    "my_full_name(\"Muhammad \", \"Hassan\", \" Yahya\")"
   ]
  },
  {
   "cell_type": "code",
   "execution_count": 39,
   "metadata": {},
   "outputs": [
    {
     "name": "stdout",
     "output_type": "stream",
     "text": [
      "Abdul Raffay\n"
     ]
    }
   ],
   "source": [
    "my_full_name(\"Abdul\",\" \",\"Raffay\")"
   ]
  },
  {
   "cell_type": "code",
   "execution_count": 40,
   "metadata": {},
   "outputs": [],
   "source": [
    "def my_full_name(f_name,l_name,m_name = ''): #default argument\n",
    "    full_name = f_name + m_name + l_name\n",
    "    print(full_name)"
   ]
  },
  {
   "cell_type": "code",
   "execution_count": 41,
   "metadata": {},
   "outputs": [
    {
     "name": "stdout",
     "output_type": "stream",
     "text": [
      "AbdulRaffay\n"
     ]
    }
   ],
   "source": [
    "my_full_name(\"Abdul\", \" Raffay\")"
   ]
  },
  {
   "cell_type": "code",
   "execution_count": 43,
   "metadata": {},
   "outputs": [
    {
     "name": "stdout",
     "output_type": "stream",
     "text": [
      "Muhammad Hassan Yahya\n"
     ]
    }
   ],
   "source": [
    "my_full_name(\"Muhammad\", \" Yahya\", \" Hassan\")"
   ]
  },
  {
   "cell_type": "code",
   "execution_count": 3,
   "metadata": {},
   "outputs": [
    {
     "name": "stdout",
     "output_type": "stream",
     "text": [
      "Enter your number: 45\n",
      "445\n",
      "545\n"
     ]
    }
   ],
   "source": [
    "a = input (\"Enter your number: \")\n",
    "for z in a:\n",
    "    z += a\n",
    "    print (z)\n"
   ]
  },
  {
   "cell_type": "code",
   "execution_count": 4,
   "metadata": {},
   "outputs": [],
   "source": [
    "def family_name(*names):\n",
    "    print(\"My family members: \", names)"
   ]
  },
  {
   "cell_type": "code",
   "execution_count": 5,
   "metadata": {},
   "outputs": [
    {
     "name": "stdout",
     "output_type": "stream",
     "text": [
      "My family members:  ('hassan', 'yahya')\n"
     ]
    }
   ],
   "source": [
    "family_name(\"hassan\",\"yahya\")"
   ]
  },
  {
   "cell_type": "code",
   "execution_count": 6,
   "metadata": {},
   "outputs": [
    {
     "name": "stdout",
     "output_type": "stream",
     "text": [
      "My family members:  ('hassan',)\n"
     ]
    }
   ],
   "source": [
    "family_name('hassan')"
   ]
  },
  {
   "cell_type": "code",
   "execution_count": 7,
   "metadata": {},
   "outputs": [],
   "source": [
    "def family_name(*names):\n",
    "    print(\"My family members: \")\n",
    "    for name in names:\n",
    "        print (name)"
   ]
  },
  {
   "cell_type": "code",
   "execution_count": 8,
   "metadata": {},
   "outputs": [
    {
     "name": "stdout",
     "output_type": "stream",
     "text": [
      "My family members: \n",
      "hassan\n",
      "Yahya\n"
     ]
    }
   ],
   "source": [
    "family_name (\"hassan\",\"Yahya\")"
   ]
  },
  {
   "cell_type": "code",
   "execution_count": null,
   "metadata": {},
   "outputs": [],
   "source": []
  }
 ],
 "metadata": {
  "kernelspec": {
   "display_name": "Python 3",
   "language": "python",
   "name": "python3"
  },
  "language_info": {
   "codemirror_mode": {
    "name": "ipython",
    "version": 3
   },
   "file_extension": ".py",
   "mimetype": "text/x-python",
   "name": "python",
   "nbconvert_exporter": "python",
   "pygments_lexer": "ipython3",
   "version": "3.7.3"
  }
 },
 "nbformat": 4,
 "nbformat_minor": 2
}
